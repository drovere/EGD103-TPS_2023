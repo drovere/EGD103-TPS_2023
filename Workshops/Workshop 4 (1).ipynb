{
 "cells": [
  {
   "cell_type": "markdown",
   "id": "e3218173",
   "metadata": {},
   "source": [
    "# Workshop 4 - Sequences and Repetition"
   ]
  },
  {
   "cell_type": "markdown",
   "id": "6ef97c03",
   "metadata": {},
   "source": [
    "## Lists\n",
    "A list is a type of Python sequence. A list is used to store multiple values in an ordered fashion. A list is mutable, meaning it can be modified (eg. values changed).\n",
    "\n",
    "A list is created using square brackets by separating each element with a comma. They may contain data of more than one type."
   ]
  },
  {
   "cell_type": "code",
   "execution_count": 3,
   "id": "8cbdf6cd",
   "metadata": {},
   "outputs": [],
   "source": [
    "# a list of numbers\n",
    "example_list = [1, 2, 3]\n",
    "\n",
    "# a list containing different types\n",
    "employee_data = [\"David\", \"Rovere\", 32]\n",
    "\n",
    "# a list of lists - calory intake for 3 meals a day recorded over 4 days\n",
    "calories = [[900, 750, 1020], \n",
    "            [300, 1000, 2700],\n",
    "            [500, 700, 2100],\n",
    "            [400, 900, 1780]]\n"
   ]
  },
  {
   "cell_type": "markdown",
   "id": "6e7132d8",
   "metadata": {},
   "source": [
    "## Tuples\n",
    "A tuple is anothery type of Python sequence. It is similar to a list, except it is immutable. A tuple should be used over a list if it is important for it not to be changed. Curved brackets are used to create a tuple."
   ]
  },
  {
   "cell_type": "code",
   "execution_count": 7,
   "id": "efc56574",
   "metadata": {},
   "outputs": [],
   "source": [
    "# examples utilising tuples\n",
    "day_of_week = (\"Monday\", 2)\n",
    "units = ((\"EGD103\", 2022, \"C1\"), (\"EGD120\", 2022, \"C1\"))\n",
    "cards = [(\"King\", \"Hearts\"), (5, \"Diamonds\"), (\"Ace\", \"Diamonds\"), (\"King\", \"Clubs\"), (6, \"Diamonds\")]\n"
   ]
  },
  {
   "cell_type": "markdown",
   "id": "977b302d",
   "metadata": {},
   "source": [
    "## Indexing and Slicing\n",
    "\n",
    "### Indexing\n",
    "In Python, elements of a sequence (eg. list, tuple, string) can be accessed using indexes. \n",
    "\n",
    "The general syntax is:\n",
    "```{Python}\n",
    "sequence[index]\n",
    "```\n",
    "where index is a number representing the position of the element. \n",
    "\n",
    "Python uses zero based indexing (the first element is index 0, the second element is index 1, etc.). Negative indexes will count from the end (eg. the index for the last element is -1).\n",
    "\n",
    "For a nested sequence (eg. list of lists), a single index will return an element from the outer sequence. To return an element of the inner sequence, two indexes are required.\n",
    "\n",
    "### Slicing\n",
    "You can access a slice of a sequence with the syntax:\n",
    "```{Python}\n",
    "sequence[start_index: stop_index]\n",
    "```\n",
    "The start_index defaults to zero if left blank. The stop_index defaults to the last index if left blank. A third value may be added to specify index spacing - the default value is 1.\n",
    "\n",
    "### Reassigning values\n",
    "You can reassign values of a list through indexing and assignment\n",
    "```{Python}\n",
    "list[index] = expression\n",
    "```\n",
    "Values in tuples and strings cannot be reassigned since they are immutable."
   ]
  },
  {
   "cell_type": "code",
   "execution_count": null,
   "id": "6f1949bc",
   "metadata": {},
   "outputs": [],
   "source": [
    "# indexing and slicing examples (in class)"
   ]
  },
  {
   "cell_type": "markdown",
   "id": "e866b7d4",
   "metadata": {},
   "source": [
    "## Sequence operations, functions and methods\n",
    "Note: some of these apply to all sequences\n",
    "\n",
    "### Sequence operations\n",
    "| Sequence Operator | Description |\n",
    "| ----------- | ----------- |\n",
    "| + | Concatenates (joins) the left sequence and the right sequence |\n",
    "| * | Replicates sequence on the left by the value on the right |\n",
    "| in | Tests for membership of the value on the left in the sequence on the right |\n",
    "\n",
    "### Sequence functions\n",
    "| Sequence Function | Description |\n",
    "| ----------- | ----------- |\n",
    "| len | Returns the length of the sequence (ie. number of elements) |\n",
    "| min | Returns the minimum value in the sequence |\n",
    "| max | Returns the maximum value in the sequence |\n",
    "| sorted | Returns a sorted copy of the sequence |\n",
    "\n",
    "### List methods\n",
    "Firstly, we will introduce methods in general. A method is similar to a function, but they belong to a type and are accessed by using a value of that tupe with the dot operator.\n",
    "\n",
    "Function syntax\n",
    "```{Python}\n",
    "function_name(inputs)\n",
    "```\n",
    "\n",
    "Method syntax\n",
    "```{Python}\n",
    "value.method_name(inputs)\n",
    "```\n",
    "\n",
    "Below are come commonly used methods for the list type.\n",
    "\n",
    "| Sequence Function | Description |\n",
    "| ----------- | ----------- |\n",
    "| append | Appends a value to the end of a list |\n",
    "| insert | Adds a value at the index given |\n",
    "| count | Counts the number of occurances of a value in a list |\n",
    "| sort | Sorts the list in ascending order |\n",
    "\n",
    "A more detailed list can be found here: https://docs.python.org/3/tutorial/datastructures.html\n",
    "\n",
    "List methods that update the list somehow (eg. adding elements, removing elements, changing order of elements) will update it in-place. This means they update the object the method is called on rather than returning a value for the new object."
   ]
  },
  {
   "cell_type": "code",
   "execution_count": 7,
   "id": "e475d046",
   "metadata": {
    "tags": []
   },
   "outputs": [],
   "source": [
    "# operation, function and method examples (in class)"
   ]
  },
  {
   "cell_type": "markdown",
   "id": "cd00b282",
   "metadata": {},
   "source": [
    "## For loops\n",
    "The for statement allows us to repeat actions a fixed number of times.\n",
    "\n",
    "The general syntax is:\n",
    "```{Python}\n",
    "for element in sequence:\n",
    "    for_loop_body\n",
    "```\n",
    "\n",
    "The for loop will iterate through the block of code in the for loop body for each element of the sequence - one at a time. \n",
    "\n",
    "Iteration 1: `element = sequence[0]`\n",
    "\n",
    "Iteration 2: `element = sequence[1]`\n",
    "\n",
    "Iteration 3: `element = sequence[2]`\n",
    "\n",
    "...\n",
    "\n",
    "Final Iteration: `element = sequence[-1]`\n",
    "\n",
    "The number of iterations is equal to the length of the sequence."
   ]
  },
  {
   "cell_type": "code",
   "execution_count": null,
   "id": "8197d7c2-cd24-4112-beed-48467a802a80",
   "metadata": {},
   "outputs": [],
   "source": [
    "# eg. create a function that returns the mean (average) value in a list without \n",
    "# using any in-built functions (eg. sum, len)."
   ]
  },
  {
   "cell_type": "markdown",
   "id": "ca498f16-0d5c-47b6-8c38-008617c32d23",
   "metadata": {},
   "source": [
    "## Range For loops\n",
    "A common type of sequence used in for loops is a range. A range is a convenient way to create an evenly spaced sequence to iterate through.\n",
    "\n",
    "The general syntax is given below. start defaults to zero and step defaults to one when not provided. The stop value is non-inclusive.\n",
    "```{Python}\n",
    "range(start, stop, step)\n",
    "```\n",
    "\n",
    "For example, if we wanted to create a range with the numbers 0-9:"
   ]
  },
  {
   "cell_type": "code",
   "execution_count": 1,
   "id": "5520d7e5-08cc-499f-84c9-ced510884c12",
   "metadata": {
    "tags": []
   },
   "outputs": [
    {
     "data": {
      "text/plain": [
       "range(0, 10)"
      ]
     },
     "execution_count": 1,
     "metadata": {},
     "output_type": "execute_result"
    }
   ],
   "source": [
    "range(10)"
   ]
  },
  {
   "cell_type": "markdown",
   "id": "ec56fe41-94ca-4750-a14f-3ed638ca761a",
   "metadata": {},
   "source": [
    "Printing a range won't allow you to see the elements it contains. To see what values are inside the range, we can convert it to a list."
   ]
  },
  {
   "cell_type": "code",
   "execution_count": 2,
   "id": "91ea5c9d-96c3-4568-8295-2ed32536d759",
   "metadata": {
    "tags": []
   },
   "outputs": [
    {
     "data": {
      "text/plain": [
       "[0, 1, 2, 3, 4, 5, 6, 7, 8, 9]"
      ]
     },
     "execution_count": 2,
     "metadata": {},
     "output_type": "execute_result"
    }
   ],
   "source": [
    "list(range(10))"
   ]
  },
  {
   "cell_type": "markdown",
   "id": "c06cc402-dce9-488a-86c6-b8e8c4b979ba",
   "metadata": {},
   "source": [
    "Range for loops are most useful when you want to iterate through index values. For example, if we had parallel lists of voltage and current:\n",
    "```{Python}\n",
    "voltage = [5, 4, 3, 6, 7, 9]\n",
    "current = [0.1, 0.2, 0.1, 0.3, 0.25, 0.2]\n",
    "```\n",
    "We can iterate through the index values to easily calculate the power for each corresponding element. This process is known as an element-wise operation."
   ]
  },
  {
   "cell_type": "code",
   "execution_count": 5,
   "id": "9d040f77-6d21-4439-a0fe-b78bfd375bb7",
   "metadata": {
    "tags": []
   },
   "outputs": [],
   "source": [
    "# eg. compute electrical power (in class)"
   ]
  }
 ],
 "metadata": {
  "kernelspec": {
   "display_name": "Python 3 (ipykernel)",
   "language": "python",
   "name": "python3"
  },
  "language_info": {
   "codemirror_mode": {
    "name": "ipython",
    "version": 3
   },
   "file_extension": ".py",
   "mimetype": "text/x-python",
   "name": "python",
   "nbconvert_exporter": "python",
   "pygments_lexer": "ipython3",
   "version": "3.10.12"
  }
 },
 "nbformat": 4,
 "nbformat_minor": 5
}
