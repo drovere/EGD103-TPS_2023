{
 "cells": [
  {
   "cell_type": "markdown",
   "id": "9e767495-6d0d-4673-aacf-489cff9ab5b6",
   "metadata": {},
   "source": [
    "# While Loops\n",
    "A while loop will continue to iterate through a block of code while its corresponding expression is true. They are useful when the number of iterations is conditional (as opposed to pre-determined like a for loop). This makes them particularly useful for numerical methods, which iterate until the solution converges or reaches a certain degree of accuracy.\n",
    "\n",
    "The general syntax for a while loop is:\n",
    "```python\n",
    "while logical_expression:\n",
    "    while_loop_body\n",
    "```\n",
    "where the `logical_expression` is an expression that compares values and returns `True` or `False` (you used these in if statements!).\n",
    "\n",
    "Some caution must be taken with while loops. If the logical expression always returns true, the while loop will iterate infinitely."
   ]
  },
  {
   "cell_type": "code",
   "execution_count": 4,
   "id": "c6ad69c9-7e3f-430c-a968-6d3d9e11d603",
   "metadata": {
    "tags": []
   },
   "outputs": [],
   "source": [
    "# Example: create a function that counts up to a given number\n"
   ]
  },
  {
   "cell_type": "code",
   "execution_count": null,
   "id": "e5c0bbb8-1266-4dc0-8955-603747cba1ce",
   "metadata": {},
   "outputs": [],
   "source": [
    "# Example: create a function that finds the nth triangular number\n"
   ]
  },
  {
   "cell_type": "markdown",
   "id": "6ffe3160-0bc2-4222-b6b3-4a306ce10887",
   "metadata": {},
   "source": [
    "# break and continue\n",
    "`break` and `continue` are two key words which are useful when working with loops. \n",
    "\n",
    "`break` allows early termination of a loop.\n",
    "\n",
    "`continue` allows you to skip to the next iteration of a loop."
   ]
  },
  {
   "cell_type": "code",
   "execution_count": 1,
   "id": "18c12936-dbd4-4ecf-a739-19861487dade",
   "metadata": {},
   "outputs": [],
   "source": [
    "# examples: \n",
    "numbers = [2, 5, 3, 1, 6]\n",
    "\n",
    "# print numbers until you find a number less than 2\n",
    "    "
   ]
  },
  {
   "cell_type": "code",
   "execution_count": 2,
   "id": "76db7a37-8e48-4792-b1e7-aca961f413ff",
   "metadata": {
    "tags": []
   },
   "outputs": [],
   "source": [
    "# examples: \n",
    "numbers = [2, 5, 3, 1, 6, 0, -2, 7]\n",
    "\n",
    "# print all numbers greate than or equal to 2\n"
   ]
  },
  {
   "cell_type": "markdown",
   "id": "e388f8fe-9a67-4ece-b2fb-3d964ec873a6",
   "metadata": {},
   "source": [
    "# Nested Loops\n",
    "A nested loop refers to when one loop is placed inside another. A generic example of a nested for loop is given below.\n",
    "```python\n",
    "for values in outer_sequence:\n",
    "    for other_values in inner_sequence:\n",
    "        for_loop_body\n",
    "\n",
    "```\n",
    "For each iteration of the outer sequence, the inner sequence will iterate through all of its values. This means that the total number of iterations is `len(outer_sequence) * len(inner_sequence)`. Nested loops are typically used when working with 2-dimensional arrangements of data (eg. representing a matrix as a list of lists).\n",
    "\n",
    "\n"
   ]
  },
  {
   "cell_type": "code",
   "execution_count": 3,
   "id": "0acff66d-6e5c-45fd-9639-c4c7492b94c2",
   "metadata": {},
   "outputs": [],
   "source": [
    "# example: write a function that adds all the numbers in a list of lists without using the sum function.\n"
   ]
  },
  {
   "cell_type": "markdown",
   "id": "d51b91b0-822d-4d4e-be52-eafd6daedfe5",
   "metadata": {},
   "source": [
    "## Raising and Handling Exceptions"
   ]
  },
  {
   "cell_type": "code",
   "execution_count": null,
   "id": "ea7e91ca-860b-48ca-86a2-d2902ea30dc9",
   "metadata": {},
   "outputs": [],
   "source": [
    "# Example: create a function that checks if its argument is a valid percentage. \n",
    "# It should raise a type error if the argument is the wrong type.\n",
    "# It should raise a value error if the argument is an invalid number."
   ]
  },
  {
   "cell_type": "code",
   "execution_count": null,
   "id": "a7abe7bf-171d-461c-8a1e-de243d87ef2e",
   "metadata": {},
   "outputs": [],
   "source": [
    "# Example: demonstrate how a try catch statement can be used to print the error messages instead of having them terminate the code."
   ]
  }
 ],
 "metadata": {
  "kernelspec": {
   "display_name": "Python 3 (ipykernel)",
   "language": "python",
   "name": "python3"
  },
  "language_info": {
   "codemirror_mode": {
    "name": "ipython",
    "version": 3
   },
   "file_extension": ".py",
   "mimetype": "text/x-python",
   "name": "python",
   "nbconvert_exporter": "python",
   "pygments_lexer": "ipython3",
   "version": "3.10.12"
  }
 },
 "nbformat": 4,
 "nbformat_minor": 5
}
