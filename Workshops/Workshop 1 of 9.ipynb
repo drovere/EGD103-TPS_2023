{
 "cells": [
  {
   "cell_type": "markdown",
   "id": "4f663ef1-d20c-4b70-84c7-4c33e8cb4fd9",
   "metadata": {},
   "source": [
    "# Workshop 1 - Introduction to Python Programming\n",
    "In this workshop, we explore introductory programming within a programming environment. We will be doing our programming online using Jupyterlab"
   ]
  },
  {
   "cell_type": "markdown",
   "id": "84169a55-aef2-46d5-a96c-edf889ecc455",
   "metadata": {},
   "source": [
    "## Evaluating Expressions\n",
    "We will start by typing some simple expressions into Python using mathematical operators.\n",
    "| Operator | Description |\n",
    "| ----------- | ----------- |\n",
    "| + | Addition |\n",
    "| - | Subtraction |\n",
    "| * | Multiplication |\n",
    "| / | Division |\n",
    "| // | Floored division |\n",
    "| ** | Exponentiation |\n",
    "| % | Remainder/modulus |\n",
    "\n",
    "In expressions with multiple operators, it is important for you to understand the order of operations. A full list for Python is provided here: https://docs.python.org/3/reference/expressions.html#evaluation-order. "
   ]
  },
  {
   "cell_type": "code",
   "execution_count": null,
   "id": "db8e8d9d-093d-4841-91df-9a28f9072dc7",
   "metadata": {},
   "outputs": [],
   "source": [
    "# subtraction example\n",
    "3 - 4"
   ]
  },
  {
   "cell_type": "code",
   "execution_count": null,
   "id": "188a217d-15c8-4eae-83ac-4f85b1ed8b0b",
   "metadata": {},
   "outputs": [],
   "source": [
    "# multiplication example\n",
    "4 * 2"
   ]
  },
  {
   "cell_type": "code",
   "execution_count": null,
   "id": "6d8ff1d1-7159-40ee-978b-a73b69e1e08a",
   "metadata": {},
   "outputs": [],
   "source": [
    "# exponentiation example\n",
    "5 ** 2"
   ]
  },
  {
   "cell_type": "markdown",
   "id": "103fc092-def3-469c-af9c-c837b5248fff",
   "metadata": {},
   "source": [
    "## Comments\n",
    "You may have noticed that the previous examples contained comments. Comments are sections of code that are not exectuted by a program. Their purpose is to be read by humans, and are helpful in making code easier to understand.\n",
    "\n",
    "In python, we comment by using the `#` symbol."
   ]
  },
  {
   "cell_type": "code",
   "execution_count": null,
   "id": "aecd38dc-b54f-424d-9f41-eb1906f46cbd",
   "metadata": {},
   "outputs": [],
   "source": [
    "# This is an example comment. Nothing will be output when running this, since it contains no Python commands."
   ]
  },
  {
   "cell_type": "markdown",
   "id": "2949b86f-b8fb-4282-b686-fc6f62d990f6",
   "metadata": {
    "tags": []
   },
   "source": [
    "## Calling functions\n",
    "A function is a named block of code that can be executed by supplying input information (called arguments).\n",
    "\n",
    "The general syntax for calling a function is: `function_name(argument)`. \n",
    "\n",
    "In the event a function has multiple inputs, they are separated by commas `function_name(argument1, argument2, ..., argumentN)`.\n",
    "\n",
    "Base Python has relatively few functions built in - only 68!. A full list can be found here: https://docs.python.org/3/library/functions.html.\n",
    "\n",
    "Some useful functions to get started with are given below.\n",
    "| Function | Description |\n",
    "| ----------- | ----------- |\n",
    "| `abs` | Finds the absolute value of the argument |\n",
    "| `round` | Rounds first argument |\n",
    "| `max` | Outputs the largest argument |\n",
    "| `min` | Outputs the smallest argument |\n",
    "| `sum` | Adds all arguments |\n",
    "| `print` | Prints object  |\n",
    "| `help` | Get help documentation for a function/module/class/method/keyword |\n"
   ]
  },
  {
   "cell_type": "code",
   "execution_count": null,
   "id": "4b51c1cd-de9c-4c3e-b1d7-4984b43bbf5f",
   "metadata": {},
   "outputs": [],
   "source": [
    "# example function call with 1 input\n",
    "abs(-10)"
   ]
  },
  {
   "cell_type": "code",
   "execution_count": null,
   "id": "0382d78b-e8a5-4eff-9661-d83991cc6eeb",
   "metadata": {},
   "outputs": [],
   "source": [
    "# example function call with multiple inputs\n",
    "max(5, 2, 3, 9, 0)"
   ]
  },
  {
   "cell_type": "code",
   "execution_count": null,
   "id": "f31e2983-8b92-4647-bc2d-aa689d042923",
   "metadata": {},
   "outputs": [],
   "source": [
    "# using the help function for insight on how to use the round function\n",
    "help(round)"
   ]
  },
  {
   "cell_type": "markdown",
   "id": "a8ea07b1-5f0c-4db6-827e-70e108d4b15b",
   "metadata": {
    "tags": []
   },
   "source": [
    "## Importing modules and examples using the math module\n",
    "We are able to gain access to more functions by importing modules. The syntax for importing a module is:\n",
    "`import module_name`\n",
    "\n",
    "Once imported, you can call functions within that module. The syntax for this is: `module_name.function_name(arguments)`.\n",
    "\n",
    "We will begin by looking at the `math` module. The math module contains the functions you'd expect to find on a scientific calculator, such as elementary functions (eg. $\\sin$, $\\cos$, $\\tan$, $\\exp$, $\\log$). Documentation is available here: https://docs.python.org/3/library/math.html."
   ]
  },
  {
   "cell_type": "code",
   "execution_count": null,
   "id": "7ab2fa69-c70a-428a-be07-0ca9620cfdfc",
   "metadata": {},
   "outputs": [],
   "source": [
    "import math"
   ]
  },
  {
   "cell_type": "code",
   "execution_count": null,
   "id": "3c95ea3b-3b88-48ee-a563-fe56cf99341a",
   "metadata": {},
   "outputs": [],
   "source": [
    "# Evaluating sin(45)\n",
    "math.sin(45)"
   ]
  },
  {
   "cell_type": "code",
   "execution_count": null,
   "id": "04fd29b8-6a6f-4d81-b558-97e84e56bb48",
   "metadata": {},
   "outputs": [],
   "source": [
    "# Is the argument in degrees or radians? We can look at the help documentation."
   ]
  },
  {
   "cell_type": "code",
   "execution_count": null,
   "id": "3b33adfc-b60f-480a-9359-7ec1267f3155",
   "metadata": {},
   "outputs": [],
   "source": [
    "# How can we convert between degrees and radians?"
   ]
  },
  {
   "cell_type": "markdown",
   "id": "4ccc9a21-92c7-4682-b16e-74bce853bc3e",
   "metadata": {
    "tags": []
   },
   "source": [
    "### Activity 1: Using Python as a calculator\n",
    "Try using Python and the math module to calculate the values for the following mathematical expressions.\n",
    "1. $\\sin^2(1) + \\cos^2(1)$\n",
    "2. $\\log_{10}(100)$\n",
    "3. $-3 + \\cfrac{\\sqrt{3^2 - 4 \\times 1 \\times 2}}{2 \\times 2}$"
   ]
  },
  {
   "cell_type": "code",
   "execution_count": null,
   "id": "6beb2c83-8552-4c12-b163-a89d506afc19",
   "metadata": {},
   "outputs": [],
   "source": [
    "# insert Q1 answer here"
   ]
  },
  {
   "cell_type": "code",
   "execution_count": null,
   "id": "41b6e22e-bb69-41ac-9f0d-a8a7476ea37d",
   "metadata": {},
   "outputs": [],
   "source": [
    "# insert Q2 answer here"
   ]
  },
  {
   "cell_type": "code",
   "execution_count": null,
   "id": "0971ed4f-4328-4cea-98bf-bdca377eb654",
   "metadata": {},
   "outputs": [],
   "source": [
    "# insert Q3 answer here"
   ]
  },
  {
   "cell_type": "markdown",
   "id": "ff5eaf8e-204f-423e-9a1d-3026fb1582ed",
   "metadata": {},
   "source": [
    "## Variables and assignment\n",
    "When programming, we usually use assignment statements. These use the assignment operator: `=`. The typical syntax for this is: `variable_name = expression`.\n",
    "\n",
    "Assignment statements are executed with two distinct steps:\n",
    "1. Evaluate the expression on the right to a value\n",
    "2. Assign that value to the variable name given on the left\n",
    "\n",
    "Once a variable is created this way, its name and value are stored and can be used in expressions. We will discuss assignment in more detail next week."
   ]
  },
  {
   "cell_type": "code",
   "execution_count": null,
   "id": "75320d50-83b7-495c-92a1-2b79ca666880",
   "metadata": {},
   "outputs": [],
   "source": [
    "# example containing assignment statements\n",
    "a = 3\n",
    "b = 10\n",
    "c = a + b\n",
    "print(c)"
   ]
  },
  {
   "cell_type": "markdown",
   "id": "6021dbdd-6886-4a0a-b06f-d676ac13bd9b",
   "metadata": {},
   "source": [
    "### Variable Naming\n",
    "\n",
    "There are certain rules regarding variable names in Python.\n",
    "1. Names can only contain letters, numbers and/or underscores (eg. cannot contain spaces)\n",
    "2. Name cannot start with a number\n",
    "3. Cannot have the same name as a Python keyword. A lsit is available here: https://docs.python.org/3/reference/lexical_analysis.html#identifiers \n",
    "4. Names are case sensitive\n"
   ]
  },
  {
   "cell_type": "code",
   "execution_count": null,
   "id": "d8bdfa52",
   "metadata": {},
   "outputs": [],
   "source": [
    "# valid variable names\n",
    "a = 1\n",
    "EGD103_is_fun = 2\n",
    "_hello = 3\n",
    "\n",
    "# invalid variable names\n",
    "# 2a = 4\n",
    "# EGD103 is fun = 5\n",
    "# break = 6\n"
   ]
  },
  {
   "cell_type": "markdown",
   "id": "efe430cd-2c2a-4787-95ae-3fe4d780f319",
   "metadata": {},
   "source": [
    "## Variable Characteristics\n",
    "We will be using variables throughout the unit, so it imperative that we understand all of their characteristics. \n",
    "\n",
    "1. A variable acts as a container for only one value."
   ]
  },
  {
   "cell_type": "code",
   "execution_count": null,
   "id": "a335b6a8-0e44-44fa-86b3-10eeb3be9158",
   "metadata": {
    "tags": []
   },
   "outputs": [],
   "source": [
    "# Storing one value in the variable a\n",
    "a = 5\n",
    "\n",
    "# A value doesn't neccessarilly contain one number.\n",
    "# The list below is a single value that contains two numbers.\n",
    "b = [5, 10] "
   ]
  },
  {
   "cell_type": "markdown",
   "id": "952071de-07d4-4462-b436-2b0a8fb47c1c",
   "metadata": {},
   "source": [
    "2. When a variable is used in an expression, Python will use the value that is stored in the variable. If there is no value stored in the variable, you will get a syntax error."
   ]
  },
  {
   "cell_type": "code",
   "execution_count": null,
   "id": "5c715e52-260b-4a55-b623-57e23752d85a",
   "metadata": {
    "tags": []
   },
   "outputs": [],
   "source": [
    "# example expression\n",
    "a + 10"
   ]
  },
  {
   "cell_type": "code",
   "execution_count": null,
   "id": "64801b9d-c72a-4f87-8036-6c384935dbe9",
   "metadata": {
    "tags": []
   },
   "outputs": [],
   "source": [
    "# example expression returning an error\n",
    "c + 10"
   ]
  },
  {
   "cell_type": "markdown",
   "id": "5b85adf2-6549-4c91-abd3-ecea7a907477",
   "metadata": {},
   "source": [
    "3. When you assign a value to a variable that is already storing a value, the new value replaces the old value. This is called overwriting the variable."
   ]
  },
  {
   "cell_type": "code",
   "execution_count": null,
   "id": "3acad377-cad1-4a31-94b9-425dbba1d0dc",
   "metadata": {
    "tags": []
   },
   "outputs": [],
   "source": [
    "print(a)\n",
    "a = a - 2\n",
    "print(a)"
   ]
  },
  {
   "cell_type": "markdown",
   "id": "130bc8fa-f55c-48e9-8669-0d8dc86af186",
   "metadata": {},
   "source": [
    "4. A python variable can store any type of value. The object type is attached to the value and not the variable."
   ]
  },
  {
   "cell_type": "code",
   "execution_count": null,
   "id": "05b0c1bf-a928-4c86-a9f1-0ff463ac5885",
   "metadata": {
    "tags": []
   },
   "outputs": [],
   "source": [
    "type(a)"
   ]
  },
  {
   "cell_type": "code",
   "execution_count": null,
   "id": "c247141d-0f99-4861-a958-827ed333cf41",
   "metadata": {
    "tags": []
   },
   "outputs": [],
   "source": [
    "a = 'hello'\n",
    "type(a)"
   ]
  },
  {
   "cell_type": "markdown",
   "id": "55aa490f-890d-4d88-b92f-a9d209a0adfc",
   "metadata": {},
   "source": [
    "5. When a variable is assigned to another variable, they don't just have the same value. They become two different names for the same object. "
   ]
  },
  {
   "cell_type": "code",
   "execution_count": null,
   "id": "2d5f3ac8-3f75-4c8a-bd67-f34d5cc410d5",
   "metadata": {
    "tags": []
   },
   "outputs": [],
   "source": [
    "b = a\n",
    "a is b"
   ]
  },
  {
   "cell_type": "markdown",
   "id": "bef16bc4-35ed-4283-8d6e-4f914ea3f7ea",
   "metadata": {},
   "source": [
    "### Special Assignment Operators\n",
    "We have learn that the = sign is the assignment operator. Python also contains some other assignment operators that can be used to update value assigned to a variable."
   ]
  },
  {
   "cell_type": "code",
   "execution_count": null,
   "id": "6e58df7e",
   "metadata": {},
   "outputs": [],
   "source": [
    "# other assignment operators\n",
    "print(a)\n",
    "a += 2 # a = a + 2\n",
    "print(a)\n",
    "\n",
    "a -= 2 # a = a - 2\n",
    "print(a)\n",
    "\n",
    "a *= 2 # a = a * 2\n",
    "print(a)\n",
    "\n",
    "a /= 2 # a = a / 2\n",
    "print(a)\n",
    "\n",
    "a **= 2 # a = a ** 2\n",
    "print(a)"
   ]
  },
  {
   "cell_type": "markdown",
   "id": "5a258650-402a-4334-92c7-92b9d410f26a",
   "metadata": {},
   "source": [
    "## Errors\n",
    "When programming, you are bound to make errors at some point. It is important that you are able to troubleshoot your code to identify and remove these errors. There are two types of errors: syntax errors and semantic errors.\n",
    "\n",
    "Syntax errors: caused when code does not abide by the rules of the language\n",
    "\n",
    "Semantic errors: caused when code gives incorrect intructions\n",
    "\n",
    "Python will pick up syntax errors for you. Semantic errors will often go undetected, so it important to have sound practices in place to help detect semantic errors (eg. using test cases to verify whether your code can perform tasks correctly)."
   ]
  },
  {
   "cell_type": "code",
   "execution_count": null,
   "id": "ecd76e70-f9bf-4fc9-8c79-04dd612ff9e5",
   "metadata": {},
   "outputs": [],
   "source": [
    "# Syntax error example\n",
    "cos(2)"
   ]
  },
  {
   "cell_type": "code",
   "execution_count": null,
   "id": "1f4e8ff6-0194-40fd-9396-f63ebe53dcad",
   "metadata": {},
   "outputs": [],
   "source": [
    "# Semantic error example for the quadratic formula\n",
    "a = 3\n",
    "b = 6\n",
    "c = 3\n",
    "root1 = -b - math.sqrt(b ** 2 - 4 * a * c) / 2 * a # incorrect order of operations\n",
    "print(root1)"
   ]
  },
  {
   "cell_type": "markdown",
   "id": "af0480cc-b6b8-476e-8433-011b9bccfd32",
   "metadata": {},
   "source": [
    "### Activity 2: Errors\n",
    "Run the code cells below. Based on the output, try to explain why the error is occuring."
   ]
  },
  {
   "cell_type": "code",
   "execution_count": null,
   "id": "f37921ab-6a24-4ca4-acb2-b58d00f211c4",
   "metadata": {},
   "outputs": [],
   "source": [
    "6 / (5 * 2 - 10)"
   ]
  },
  {
   "cell_type": "code",
   "execution_count": null,
   "id": "3dfd759b-4a39-4f63-a1e2-e0555450aa71",
   "metadata": {},
   "outputs": [],
   "source": [
    "5 + d"
   ]
  },
  {
   "cell_type": "markdown",
   "id": "6fc9855d-6914-42d0-8f61-893306890f12",
   "metadata": {},
   "source": [
    "## Tracing and Debugging\n",
    "One way we can monitor the value of each variable is by tracing the code. In this process, we manually record the value of each variable in a table after executing each line of code.\n",
    "\n",
    "Another way we can monitor this is by using the debugging tool. This allows us to access a variable explorer and add breakpoints in our code, so that it can be run one line at a time, or in small chunks."
   ]
  },
  {
   "cell_type": "code",
   "execution_count": null,
   "id": "0f7f9644",
   "metadata": {},
   "outputs": [],
   "source": [
    "# scoring an NRL game\n",
    "CONVERTED_TRY = 6\n",
    "TRY = 4\n",
    "\n",
    "# start of game\n",
    "dolphins_score = 0\n",
    "roosters_score = 0\n",
    "\n",
    "# during game\n",
    "roosters_score += CONVERTED_TRY\n",
    "dolphins_score += CONVERTED_TRY\n",
    "roosters_score += CONVERTED_TRY\n",
    "dolphins_score += CONVERTED_TRY\n",
    "dolphins_score += CONVERTED_TRY\n",
    "dolphins_score += CONVERTED_TRY\n",
    "dolphins_score += TRY\n",
    "roosters_score += CONVERTED_TRY"
   ]
  },
  {
   "cell_type": "markdown",
   "id": "2420ded5-31a0-4472-84d6-312fcf6fc161",
   "metadata": {},
   "source": [
    "## Programming Best Practices\n",
    "### Practice 1: Code is clear and maintainable\n",
    "Your code should be easy to understand. This is achieved by:\n",
    "* Using meaningful variable names\n",
    "* Commenting when appropriate\n",
    "* Using consistent naming conventions. For example, you can name variables with lower-case letters and underscores, and constants with capital letters.\n",
    "\n",
    "\n",
    "### Practice 2: Don't repeat yourself\n",
    "You should avoid using the same blocks of code over and over again in your program. In the event you would like to perform a task multiple times, you should create a function for it!\n",
    "\n",
    "\n",
    "### Practice 3: Simple algorithms\n",
    "If there are multiple ways to solve a problem, the simpler solution is better. This is achieved by:\n",
    "* Plan out your solution strategy (algorithm) before writing your code. Try to make is as simple as possible - don't just settle for the first idea that comes to mind.\n",
    "* Use in-built functions wherever possible\n",
    "* Avoid redundant lines of code\n",
    "\n",
    "### Practice 4: Thoroughly test your code\n",
    "When creating your own functions, you want to test that they work correctly. Try testing them against a large set of test cases to see if they are functioning correctly.\n"
   ]
  }
 ],
 "metadata": {
  "kernelspec": {
   "display_name": "Python 3 (ipykernel)",
   "language": "python",
   "name": "python3"
  },
  "language_info": {
   "codemirror_mode": {
    "name": "ipython",
    "version": 3
   },
   "file_extension": ".py",
   "mimetype": "text/x-python",
   "name": "python",
   "nbconvert_exporter": "python",
   "pygments_lexer": "ipython3",
   "version": "3.10.12"
  }
 },
 "nbformat": 4,
 "nbformat_minor": 5
}
