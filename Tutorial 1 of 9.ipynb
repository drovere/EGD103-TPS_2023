{
 "cells": [
  {
   "cell_type": "markdown",
   "id": "d97bec96-dc0d-45a6-8d28-f753eae84931",
   "metadata": {
    "tags": []
   },
   "source": [
    "# Topic: Python Expressions\n",
    "Writing simple Python expressions to make calculations\n",
    "\n",
    "## Python Concepts: \n",
    "* expressions\n",
    "* variables\n",
    "* arithmetic operators\n",
    "* calling built-in functions\n",
    "* accessing modules\n",
    "* assignment statements\n",
    "\n",
    "### Keywords\n",
    "* <code>import</code>\n",
    "\n",
    "### Modules:\n",
    "<code>math</code> [<code>pi</code>, <code>tan</code>, <code>sin</code>, <code>cos</code>, <code>sqrt</code>]\n",
    "\n",
    "---\n",
    "\n"
   ]
  },
  {
   "cell_type": "markdown",
   "id": "275cbb96-9b6e-43a9-a419-6c1d47c55500",
   "metadata": {},
   "source": [
    "<u><b>EXERCISES:</b></u>\n",
    "<br>\n",
    "[JupyterLab Basics](#jupyterlab_basics)\n",
    "<br>\n",
    "\n",
    "[Basic Calculations](#Basic_Calculations):\n",
    "> [Distance Travelled](#distance_travelled)<br>\n",
    "> [Radians to Degrees](#radians_to_degrees)<br>\n",
    "\n",
    "[Algebraic Expressions](#Algebraic_Expressions):\n",
    "> [$5x^3$](#5x^3)<br>\n",
    "> [$4x^2 + 7x^3 - 9x + 5$](#4x^2+7x^3-9x+5)<br>\n",
    "> [$\\sqrt{4x^3}$](#sqrt(4x^3))<br>\n",
    "> [$7\\sqrt{x^{x+1}}$](#7sqrt(x^(x+1)))<br>\n",
    "\n",
    "[Geometry](#Geometry)<br>\n",
    "> [Area of a Triangle](#area_triangle)<br>\n",
    "> [Volume of a Cylinder](#volume_cylinder)<br>\n",
    "> [Length of Hypotenuse](#length_hypotenuse)<br>\n",
    "> [Area of Trapezoid](#area_trapezoid)<br>\n",
    "> [Surface Area of Cone](#surface_area_cone)<br>\n",
    "> [Area of Regular Polygon](#area_regular_polygon)<br>\n",
    "\n",
    "[Errors](#Errors)<br>\n",
    "> [Pythagorean Trig Identity](#pythagorean_trig_identity)<br>\n",
    "> [Debugging Arithmetic Expression](#debugging_arithmetic_expression)<br>\n",
    "> [Debugging Formula](#debugging_formula)<br>\n",
    "\n",
    "[Variables and Assignment](#variables_and_assignment):\n",
    "> [Average Speed](#average_speed)<br>\n",
    "> [Earth vs Moon](#earth_vs_moon)<br>\n",
    "> [Microcentury](#microcentury)<br>\n",
    "\n",
    "<hr>"
   ]
  },
  {
   "cell_type": "markdown",
   "id": "78097896-9be4-48e3-9752-1b87f3d77655",
   "metadata": {
    "tags": []
   },
   "source": [
    "# <a name=\"jupyterlab_basics\"></a>JupyterLab Basics"
   ]
  },
  {
   "cell_type": "markdown",
   "id": "485c5744-ec23-4993-a613-730493bfad20",
   "metadata": {
    "tags": []
   },
   "source": [
    "Each 'cell' in a JupyterLab Notebook can contain one of three content <em>types</em>:\n",
    "* Code\n",
    "* Markdown or\n",
    "* Raw \n",
    "\n",
    "You can change the <em>type</em> by using the dropdown widget on the menu, which display the current <em>type</em> selected.  (Initially \"Markdown\" should be visible.)\n",
    "\n",
    "The result of 'executing' a cell (by either using the 'play' button on the menu (triangle), or by using the key combination Control+ENTER) depends on the cell <em>type</em>.  If it is <strong>Code</strong>, that code is evaluated.  If it is <strong>Markdown</strong>, the text will be displayed according to the markup tags used to format the text. If it is <strong>Raw</strong>, the text will simply be displayed 'as is', ie as plain text.  Notice that, before execution, the contents of cells looks different depending on the selected <em>type</em>.\n",
    "\n",
    "A <em>collapsed</em> cell will show as a large elipses, and can be expanded by clicking on the elipses.  See the tracing exercises below.  To collapse a cell, use the View menu option.\n",
    "\n",
    "##### Markdown\n",
    "You will see that this cell is Markdown, and it contains special markup 'tags' surrounding parts of the text to change the way it is displayed when executed.  To look at those tags, double click on any of the text here.  For example you will see how we have marked up the headings and the bulleted lists, and emphasised some words (with italics and bolding).  To render the cell as we intended, simply execute the cell again.\n",
    "\n",
    "Markdown cells will be used to introduce exercises, supply any useful information/resources and to group related exercises into sections.\n",
    "\n",
    "##### Code\n",
    "Most of your interaction with exercise files like this one will be in Code cells.  Generally there will be some Python comments giving a brief introduction to the exercise, potentially followed by some code, then a description of the task you are to complete.  After writing your solution, execute the cell to evaluate your Python code.  Any result of evaluating your code will be displayed in a new cell below the code.  Anything printed will just appear at the bottom of the current cell.\n",
    "\n",
    "If your code produces an error, read the error message to understand which part of your code is causing the error, and what type of error it is.  This will hopefully be a useful hint for debugging!\n",
    "\n",
    "### Resources:\n",
    "* <a href = \"https://jupyter.org/\">Jupyter Home Page</a> (including links to installation files)\n",
    "* <a href =\"https://jupyterlab.readthedocs.io/en/stable/user/interface.html\">JupyterLab Interface doco</a>\n",
    "* <a href=\"https://www.markdownguide.org/getting-started/\">Markdown - Getting Started</a>\n",
    "* <a href =\"https://www.markdownguide.org/basic-syntax/\">Markdown - Basic Syntax Guide</a>\n",
    "* <a href =\"https://www.ibm.com/docs/en/watson-studio-local/1.2.3?topic=notebooks-markdown-jupyter-cheatsheet\">Markdown for Jupyter Notebooks Cheatsheet</a> (IBM)\n",
    "* <a href=\"https://docs.python.org/3/\">Python3 Documentation</a>\n",
    "\n",
    "<hr>"
   ]
  },
  {
   "cell_type": "markdown",
   "id": "c84532d8-7b4f-4d13-bf22-83485be1cdcc",
   "metadata": {},
   "source": [
    "# <a name=\"Basic_Calculations\"><a> Basic Calculations\n"
   ]
  },
  {
   "cell_type": "markdown",
   "id": "8718f596-c974-4038-8a27-e8bd6c9ad45d",
   "metadata": {},
   "source": [
    "<a name=\"distance_travelled\"></a>\n",
    "<b>Distance Travelled</b>\n",
    "\n",
    "Using the supplied Python variables, write an expression to calculate the distance travelled in kms using the formula: $distance = speed \\times time$.\n",
    "\n",
    "NB: you will need to convert minutes to hours"
   ]
  },
  {
   "cell_type": "code",
   "execution_count": null,
   "id": "14810ab6-de88-48a0-a348-ceaa15d40d67",
   "metadata": {
    "tags": []
   },
   "outputs": [],
   "source": [
    "# Some Python variables\n",
    "speed = 1000 # in kms/hr\n",
    "time = 2 # in minutes\n",
    "\n",
    "# Write your answer here\n",
    "# The result should be 33.333333333333336"
   ]
  },
  {
   "cell_type": "markdown",
   "id": "c9de7b58-86f8-45a5-829b-a4352cf1a210",
   "metadata": {},
   "source": [
    "<a name=\"radians_to_degrees\"></a>\n",
    "<b>Radians to Degrees</b>\n",
    "\n",
    "Using the supplied Python variable, write an expression to calculate the angle in degrees, using the formula: $degrees = radians \\times \\frac{180}{\\pi}$."
   ]
  },
  {
   "cell_type": "code",
   "execution_count": null,
   "id": "2e2b75db-a441-4f37-b0d9-5f0c556c46d6",
   "metadata": {},
   "outputs": [],
   "source": [
    "# Import the math module to use pi\n",
    "import math\n",
    "\n",
    "# A Python variable\n",
    "radians = 100\n",
    "\n",
    "# Write your answer here\n",
    "# The result should be 5729.5779513082325"
   ]
  },
  {
   "cell_type": "markdown",
   "id": "6009c31d-34eb-43c6-8243-f427b818d614",
   "metadata": {},
   "source": [
    "<hr>"
   ]
  },
  {
   "cell_type": "markdown",
   "id": "70c1b984-46f3-4693-a80c-303bd3ac75ad",
   "metadata": {},
   "source": [
    "<a name=\"Algebraic_Expressions\"><a>\n",
    "# Algebraic Expressions"
   ]
  },
  {
   "cell_type": "markdown",
   "id": "cf8cd0b2-f862-4ef9-9ce6-a898a26eb62b",
   "metadata": {},
   "source": [
    "We will assign the value 3 to the variable x for use in the following examples\n",
    "(but the expressions will be written the same regardless of the value of variable x)"
   ]
  },
  {
   "cell_type": "code",
   "execution_count": null,
   "id": "cc34c831-00d6-4474-95b3-1ce2db0a773b",
   "metadata": {},
   "outputs": [],
   "source": [
    "# store the value 3 in variable x\n",
    "x = 3"
   ]
  },
  {
   "cell_type": "markdown",
   "id": "9b32be68-9364-49ab-a1e6-eac6e021e25b",
   "metadata": {},
   "source": [
    "Write Python expressions for each of the following algebraic expressions:"
   ]
  },
  {
   "cell_type": "markdown",
   "id": "fb430b52-de4b-473d-bb5f-297ffefbb29d",
   "metadata": {},
   "source": [
    "<a name=\"5x^3\"></a>\n",
    "$5x^3$"
   ]
  },
  {
   "cell_type": "code",
   "execution_count": null,
   "id": "08a8ec5c-4102-4cf4-bf23-ba8a24d721c4",
   "metadata": {},
   "outputs": [],
   "source": [
    "# Write your answer here.\n",
    "# The result should be 135\n"
   ]
  },
  {
   "cell_type": "markdown",
   "id": "8804ae21-be7b-4cdd-8481-49d9c8ec5c70",
   "metadata": {},
   "source": [
    "<a name=\"4x^2+7x^3-9x+5\"></a>\n",
    "$4x^2 + 7x^3 - 9x + 5$"
   ]
  },
  {
   "cell_type": "code",
   "execution_count": null,
   "id": "ce64c843-7c5e-4361-9ccb-1ef8b736e36c",
   "metadata": {},
   "outputs": [],
   "source": [
    "# Write your answer here.\n",
    "# The result should be 203\n"
   ]
  },
  {
   "cell_type": "markdown",
   "id": "8461158f-bba9-4546-b758-34e5c7588de1",
   "metadata": {},
   "source": [
    "<a name=\"sqrt(4x^3)\"></a>\n",
    "$\\sqrt{4x^3}$"
   ]
  },
  {
   "cell_type": "code",
   "execution_count": null,
   "id": "017cae73-ff41-40e8-b7b8-08d3527a4b92",
   "metadata": {},
   "outputs": [],
   "source": [
    "# Write your answer answer here.\n",
    "# The result should be 10.392304845413264\n"
   ]
  },
  {
   "cell_type": "markdown",
   "id": "d6d14184-1a87-46a2-8210-6510aa90ea06",
   "metadata": {},
   "source": [
    "<a name=\"7sqrt(x^(x+1))\"></a>\n",
    "$7 \\sqrt{x^{x+1}}$"
   ]
  },
  {
   "cell_type": "code",
   "execution_count": null,
   "id": "2afa3577-58f0-4390-b49c-1e1d0a84baa0",
   "metadata": {},
   "outputs": [],
   "source": [
    "# Write your answer here.\n",
    "# The result should be 63.0\n"
   ]
  },
  {
   "cell_type": "markdown",
   "id": "c656854d-00b4-4740-a4cf-a3d91dc6a931",
   "metadata": {},
   "source": [
    "<hr>"
   ]
  },
  {
   "cell_type": "markdown",
   "id": "5edd4d2e-cb37-499e-b6d2-89d2d671114d",
   "metadata": {},
   "source": [
    "<a name=\"Geometry\"><a>\n",
    "# Geometry\n",
    "\n",
    "Formulas:\n",
    "    <ul>\n",
    "        <li>area of triangle = $\\frac{hb}{2}$</li>\n",
    "        <li>volume of a cylinder = $\\pi r^2h$</li>\n",
    "        <li>hypotenuse = $\\sqrt{a^2 + b^2}$</li>\n",
    "        <li>area of trapezoid = $\\frac{(a + b)}{2} h$</li>\n",
    "        <li>surface area of right circular cone = $\\pi r^2 + \\pi r\\sqrt{r^2 + h^2}$</li>\n",
    "        <li>area of a regular polygon = $n r^2 tan(\\frac{\\pi}{n})$</li>\n",
    "    </ul>"
   ]
  },
  {
   "cell_type": "markdown",
   "id": "bf952909-99b1-44c0-9890-29ae8c7c2fe0",
   "metadata": {},
   "source": [
    "<a name=\"area_triangle\"></a>\n",
    "<b>Calculate the area of a triangle</b>"
   ]
  },
  {
   "cell_type": "code",
   "execution_count": null,
   "id": "0aad294a-32e3-4c58-bef3-bdc42135277f",
   "metadata": {},
   "outputs": [],
   "source": [
    "height = 3.5\n",
    "base = 7.1\n",
    "\n",
    "# Write your answer here.\n",
    "# The result should be 12.424999999999999\n"
   ]
  },
  {
   "cell_type": "markdown",
   "id": "3dfebc98-4720-438c-b9a5-cbf7385ba504",
   "metadata": {},
   "source": [
    "<a name=\"volume_cylinder\"></a>\n",
    "<b>Calculate the volume of a cylinder</b>"
   ]
  },
  {
   "cell_type": "code",
   "execution_count": null,
   "id": "1f49e777-5617-41a0-88c3-c9b0b994c43c",
   "metadata": {},
   "outputs": [],
   "source": [
    "radius = 2\n",
    "height = 3.4\n",
    "\n",
    "# Write your answer here.\n",
    "# The result should be 42.725660088821186\n"
   ]
  },
  {
   "cell_type": "markdown",
   "id": "45c65d78-3647-4d04-8fd2-c3dbd950eb6a",
   "metadata": {},
   "source": [
    "<a name=\"length_hypotenuse\"></a>\n",
    "<b>Calculate the length of the hypotenuse of a triangle</b>"
   ]
  },
  {
   "cell_type": "code",
   "execution_count": null,
   "id": "efded174-9feb-43ad-bb92-cf41e64bd61b",
   "metadata": {},
   "outputs": [],
   "source": [
    "side_a = 18.3\n",
    "side_b = 9.42\n",
    "\n",
    "# Write your answer here.\n",
    "# The result should be 20.582186472773003\n"
   ]
  },
  {
   "cell_type": "markdown",
   "id": "4521f331-04b7-4dcf-a792-9f886ba9c81a",
   "metadata": {},
   "source": [
    "<a name=\"area_trapezoid\"></a>\n",
    "<b>Calculate the area of a trapezoid</b> "
   ]
  },
  {
   "cell_type": "code",
   "execution_count": null,
   "id": "df5eb647-16fc-43a5-8aa9-c1940c6923d9",
   "metadata": {},
   "outputs": [],
   "source": [
    "base_a = 3.112\n",
    "base_b = 5.0001\n",
    "height = 9.2\n",
    "\n",
    "# Write your answer here.\n",
    "# The result should be 37.315659999999994\n"
   ]
  },
  {
   "cell_type": "markdown",
   "id": "6c0b0347-6bda-41f0-a661-9982fec9d681",
   "metadata": {},
   "source": [
    "<a name=\"surface_area_cone\"></a>\n",
    "<b>Calculate the surface area of cone</b>"
   ]
  },
  {
   "cell_type": "code",
   "execution_count": null,
   "id": "4732952e-138e-47e0-8e7b-fe70673549fe",
   "metadata": {},
   "outputs": [],
   "source": [
    "radius = 3\n",
    "height = 8\n",
    "\n",
    "# Write your answer here.\n",
    "# The result should be 108.79967207790783\n",
    "\n"
   ]
  },
  {
   "cell_type": "markdown",
   "id": "5a40651b-0439-493c-9ff5-5a6987ec96a4",
   "metadata": {},
   "source": [
    "<a name=\"area_regular_polygon\"></a>\n",
    "<b>Calculate the area of a regular polygon</b>"
   ]
  },
  {
   "cell_type": "code",
   "execution_count": null,
   "id": "5f57df82-3d34-48dd-9726-d4542e99656e",
   "metadata": {},
   "outputs": [],
   "source": [
    "number_sides = 5\n",
    "radius = 7.4\n",
    "\n",
    "# Write your answer here.\n",
    "# The result should be 198.92734416786783\n"
   ]
  },
  {
   "cell_type": "markdown",
   "id": "1cfe13d9-86be-4737-bf4a-36fc835b6240",
   "metadata": {},
   "source": [
    "<hr>"
   ]
  },
  {
   "cell_type": "markdown",
   "id": "9309891c-3a02-4fcb-b829-07816e629cd8",
   "metadata": {},
   "source": [
    "<a name=\"Errors\"><a> \n",
    "# Errors   \n",
    "\n",
    "We often encounter errors when programming in Python. In python, there are two main types of errors:\n",
    "* Syntax errors: These occur when invalid syntax (language) is used to describe a task. Python will provide a clear error message if there is a syntax error.\n",
    "* Semantic errors: These occur when an incorrect process has been instructed (eg. telling someone to turn left, when they were supposed to turn right). Python cannot detect these errors, so it is up to the programmer to properly test their code for any semantic errors."
   ]
  },
  {
   "cell_type": "markdown",
   "id": "0df93e2e-d14f-4852-a9b2-4eb080fa594e",
   "metadata": {},
   "source": [
    "<a name=\"pythagorean_trig_identity\"></a>\n",
    "<b>Debugging - Pythagorean trigonometric identity</b> \n",
    "<br/>    \n",
    "Does:\n",
    "    $sin ^2(x) + cos ^ 2(x)$ equal $1?$\n",
    "    "
   ]
  },
  {
   "cell_type": "code",
   "execution_count": null,
   "id": "e4e9c587-1b7f-436a-8f1e-831577ca9339",
   "metadata": {},
   "outputs": [],
   "source": [
    "# Find and fix the errors in the following code\n",
    "\n",
    "x = math.pi / 4\n",
    "\n",
    "sin**2(x) + cos**2(x) = 1"
   ]
  },
  {
   "cell_type": "markdown",
   "id": "cda38f44-541f-42a1-a718-10d3301fb2af",
   "metadata": {},
   "source": [
    "<a name=\"debugging_arithmetic_expression\"></a>\n",
    "<b>Debugging Arthimetic Expression</b>\n",
    "\n",
    "The expression below is well formed, and looks like it should work, but doesn't. Before you run the code, try to determine what the issue is. Then evaluate the expression, and read the error message."
   ]
  },
  {
   "cell_type": "code",
   "execution_count": null,
   "id": "c00961a8-2f24-49f0-887a-7365e73346ff",
   "metadata": {},
   "outputs": [],
   "source": [
    "# Find and fix the errors in the following code\n",
    "\n",
    "(9 * 7) / ((6 + 2) - 8) "
   ]
  },
  {
   "cell_type": "markdown",
   "id": "161dc56c-fa56-481a-b2ce-d274ca628abb",
   "metadata": {},
   "source": [
    "<a name=\"debugging_formula\"></a>\n",
    "<b>Debugging Formula</b>\n",
    "\n",
    "The code below attempts to convert a temperature from Fahrenheit to Celcius. However, it is not returning the correct answer of 100. Run the code, and then modify it so it produces the correct value.\n",
    "\n",
    "NB. You may need to research what the correct conversion formula is."
   ]
  },
  {
   "cell_type": "code",
   "execution_count": null,
   "id": "1165ffa0-1371-491a-91c0-e067cdb0c75a",
   "metadata": {},
   "outputs": [],
   "source": [
    "# Find and fix the errors in the following code\n",
    "\n",
    "fahrenheit = 212\n",
    "\n",
    "celsius = fahrenheit - 32 * 5 / 9\n",
    "\n",
    "# now display the variable\n",
    "celsius"
   ]
  },
  {
   "cell_type": "markdown",
   "id": "dd75f439-efda-4f42-b19f-a3fecd5ebf25",
   "metadata": {},
   "source": [
    "<a name=\"variables_and_assignment\"></a>\n",
    "<hr/>\n",
    "\n",
    "# Variables and Assignment\n",
    "\n",
    "Last week most of the problems you solved only required a single statement. This week we look at more difficult problems that are best solved with multiple statements that are sequentially executed."
   ]
  },
  {
   "cell_type": "markdown",
   "id": "73db5ce5-ca1d-45fc-bed6-45f2c61ae056",
   "metadata": {
    "tags": []
   },
   "source": [
    "<a name=\"average_speed\">\n",
    "<b>Average Speed</b></a>\n",
    "\n",
    "Imagine that you get on your bicycle and travel from your home to QUT at 30 km/hr.  After a hard day's study you cycle home again more slowly at 20 km/hr.\n",
    "\n",
    "Quickly now, what is your average speed for the whole round trip?  Be careful - most people get this wrong!  (Thanks to Professor Julius Sumner Miller for this brainteaser.)\n",
    "\n",
    "To check the correct answer, complete the code below. We have chosen an arbitrary distance of 6 km between your house and the university but the result is the same regardless of the distance.\n",
    "\n",
    "(Author: Colin Fidge 2021)"
   ]
  },
  {
   "cell_type": "code",
   "execution_count": 11,
   "id": "f37616e8-0d13-4677-9909-647f3a6ccadf",
   "metadata": {},
   "outputs": [
    {
     "data": {
      "text/plain": [
       "24.0"
      ]
     },
     "execution_count": 11,
     "metadata": {},
     "output_type": "execute_result"
    }
   ],
   "source": [
    "# Given values:\n",
    "distance_from_home_to_uni = 6 # km\n",
    "speed_from_home_to_uni = 30 # km/hr\n",
    "speed_from_uni_to_home = 20 # km/hr\n",
    "\n",
    "# Complete the following code by replacing the question marks:\n",
    "\n",
    "time_to_get_to_uni = ??? # hours\n",
    "\n",
    "time_to_get_home = ??? # hours\n",
    "\n",
    "total_travelling_time = ??? # hours\n",
    "\n",
    "total_distance_travelled = ??? * 2 # km\n",
    "\n",
    "speed_for_round_trip = ??? # km/hr\n",
    "\n",
    "speed_for_round_trip"
   ]
  },
  {
   "cell_type": "markdown",
   "id": "621353bb-e45a-4e4e-bb27-da948150ef00",
   "metadata": {},
   "source": [
    "<a name=\"earth_vs_moon\"></a>\n",
    "<b>Earth vs Moon</b>\n",
    "\n",
    "Which has more dry land: Earth or the moon?\n",
    "\n",
    "Earth has a surface area of $5.1 \\times 10^8$ km$^2$ and 71% of the earth is covered in water.\n",
    "\n",
    "The moon has a diameter of 3475 km and no water on its surface.\n",
    "\n",
    "(Author: Colin Fidge (2021) - Quiz question from Time magazine)"
   ]
  },
  {
   "cell_type": "code",
   "execution_count": null,
   "id": "899e5891-05f4-412b-a943-64135ff38ad4",
   "metadata": {},
   "outputs": [],
   "source": [
    "# Complete the following code by replacing the question marks:\n",
    "\n",
    "import math\n",
    "\n",
    "# First calculate the amount of dry land on Earth\n",
    "\n",
    "earths_surface_area = ??? # sq km\n",
    "\n",
    "earths_water_area = ???\n",
    "\n",
    "earths_dry_land = ???\n",
    "\n",
    "# Now calculate the amount of dry land on the moon\n",
    "\n",
    "moons_radius = ??? # km\n",
    "\n",
    "moons_dry_land = ??? \n",
    "\n",
    "# Which has more dry land, the earth or the moon?\n",
    "\n",
    "print(moons_dry_land, earths_dry_land)"
   ]
  },
  {
   "cell_type": "markdown",
   "id": "a5edcfa3-7ceb-4e0b-a519-e26898daa8c7",
   "metadata": {
    "tags": []
   },
   "source": [
    "<a name=\"microcentury\"></a>\n",
    "<b>Microcentury</b>\n",
    "\n",
    "When asked how long his lectures were, Professor Julius Sumner Miller usually answered \"about a microcentury.\"  As an arithmetic exercise we can find out how many minutes in a microcentury by multiplying the minutes in an hour x hours in a day x days in a year x years in a century then dividing by 1 million (\"micro\" means one millionth)."
   ]
  },
  {
   "cell_type": "code",
   "execution_count": null,
   "id": "f30b34c8-7c7b-4d73-a86c-4108c8ce266c",
   "metadata": {},
   "outputs": [],
   "source": [
    "# Some of the values are familiar to us without much thought:\n",
    "minutes_per_hour = 60\n",
    "hours_per_day = 24\n",
    "days_per_year = 365 # ish\n",
    "years_per_century = 100\n",
    "\n",
    "# But others require a bit of calculation.\n",
    "# For each of the remaining variables, change the question marks \n",
    "# to an appropriate expression that uses the variables\n",
    "# above, and no numeric literals\n",
    "\n",
    "minutes_per_day = ???\n",
    "minutes_per_century = ???\n",
    "microcentury = ???\n",
    "\n",
    "microcentury"
   ]
  }
 ],
 "metadata": {
  "kernelspec": {
   "display_name": "Python 3 (ipykernel)",
   "language": "python",
   "name": "python3"
  },
  "language_info": {
   "codemirror_mode": {
    "name": "ipython",
    "version": 3
   },
   "file_extension": ".py",
   "mimetype": "text/x-python",
   "name": "python",
   "nbconvert_exporter": "python",
   "pygments_lexer": "ipython3",
   "version": "3.10.12"
  }
 },
 "nbformat": 4,
 "nbformat_minor": 5
}
