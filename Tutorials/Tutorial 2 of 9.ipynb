{
 "cells": [
  {
   "cell_type": "markdown",
   "id": "e7b37f9a-4779-445f-aff9-38e64b1dd4b3",
   "metadata": {},
   "source": [
    "# Topic: Functions and Selection\n",
    "Creating user-defined functions, Booleans, branching with if statements\n",
    "\n",
    "## Python Concepts: \n",
    "* User-defined functions\n",
    "* Boolean expressions\n",
    "* Boolean operators\n",
    "* Boolean literals\n",
    "* Conditional statements\n",
    "* Numeric representations\n",
    "\n",
    "### Keywords\n",
    "* <code>def</code>\n",
    "* <code>return</code>\n",
    "* <code>if</code>\n",
    "* <code>elif</code>\n",
    "* <code>else</code>\n",
    "* <code>and</code>\n",
    "* <code>or</code>\n",
    "* <code>not</code>\n",
    "* <code>True</code>\n",
    "* <code>False</code>\n",
    "\n",
    "### Data Types\n",
    "* <code>bool</code>\n",
    "\n",
    "---"
   ]
  },
  {
   "cell_type": "markdown",
   "id": "9c0a68a9-6d52-48e1-9afd-432dae0bd093",
   "metadata": {},
   "source": [
    "## Core Exercises\n",
    "\n",
    "[User Defined Functions](#variables_and_assignment):\n",
    "> [Hot Air Balloon](#hot_air_balloon)<br>\n",
    "> [Road Curvature Design](#road_curvature_design)<br>\n",
    "> [Equivalent Resistance](#equivalent_resistance)<br>\n",
    "\n",
    "[If Statements](#if_statements):\n",
    "> [Traffic Flow](#traffic_flow)<br>\n",
    "> [Traffic Speed](#traffic_speed)<br>\n",
    "> [Traffic Density](#traffic_density)<br>\n",
    "> [Tax Calculator](#traffic_density)<br>\n",
    "\n",
    "[Predicates](#predicates):\n",
    "> [Is Divisible](#is_divisible)<br>\n",
    "> [Leap Year](#leap_year)<br>\n",
    "> [Boolean Algebra](#boolean_algebra)<br>\n",
    "\n",
    "\n",
    "## Extension Exercises\n",
    "\n",
    "[Binary Representation](#binary_representation)<br>"
   ]
  },
  {
   "cell_type": "markdown",
   "id": "a267708b-b3b5-4a27-bdc3-20ba7b74ab1e",
   "metadata": {},
   "source": [
    "\n",
    "<a name=\"hot_air_balloon\"> </a>\n",
    "## Hot Air Balloon\n",
    "    \n",
    "    \n",
    "Buoyancy force of a hot air balloon can be calculated the equation below.\n",
    "\n",
    "Use the Buoyancy force equation: $F = \\rho Vg$ where:\n",
    "* F is the Buoyancy force\n",
    "* ρ is the density difference\n",
    "* V is the displaced volume $\\left( \\frac{4}{3} \\pi r^3 \\right)$ and \n",
    "* g is the local gravitational constant (normally assumed to be equal to 9.81).\n",
    " "
   ]
  },
  {
   "cell_type": "code",
   "execution_count": null,
   "id": "87910d7a-296f-4663-9efd-f7ce50214215",
   "metadata": {},
   "outputs": [],
   "source": [
    "# Create a Python function to calculate the buoyancy force, given the balloon radius, outside air density, and inside air density are supplied as inputs.\n",
    "\n",
    "def hot_air_balloon_buoyancy(radius, outside_density, inside_density):\n",
    "    # write your solution here"
   ]
  },
  {
   "cell_type": "code",
   "execution_count": null,
   "id": "da1139da-5cb6-4954-90a0-1ae89811d57b",
   "metadata": {},
   "outputs": [],
   "source": [
    "# Test 1 - outside air density is 1.2 kg.m^-3; inside helium is 0.2 kg.m^-3\n",
    "hot_air_balloon_buoyancy(10, 1.2, 0.2) \n",
    "# should return 41092.03190895449"
   ]
  },
  {
   "cell_type": "code",
   "execution_count": null,
   "id": "47f06da7-691f-47a1-b2a6-c2dd8bb51bf7",
   "metadata": {},
   "outputs": [],
   "source": [
    "# Test 2 - outside air density is 1.2 kg.m^-3; inside hydrogen is 0.0899 kg.m^-3\n",
    "hot_air_balloon_buoyancy(10, 1.2, 0.0899)\n",
    "# should return 45616.264622130366"
   ]
  },
  {
   "cell_type": "markdown",
   "id": "3fa693a9-4c20-4041-b93e-527f741f58c6",
   "metadata": {},
   "source": [
    "<a name=\"road_curvature_design\"> </a>\n",
    "## Road Curvature Design\n",
    "\n",
    "Roads are not perfectly straight and do have curves in the horizontal plane. For safe driving, the horizontal curvature of the road should have minimum radius (termed as minimum radius of curvature) which can be expressed with the equation below."
   ]
  },
  {
   "cell_type": "markdown",
   "id": "a1a2bc0a-68e9-4d29-bc2d-e8f47f9ec4e0",
   "metadata": {},
   "source": [
    "minimum radius of curvature: $R = \\frac{S^2}{127(f + e)}$\n",
    "where:\n",
    "* R = minimum radius of curvature in meters\n",
    "* S = speed in km/hr\n",
    "* f = coefficient of side friction on the road \n",
    "* e = superelevation expressed as a decimal\n"
   ]
  },
  {
   "cell_type": "code",
   "execution_count": null,
   "id": "a1a67f79-8767-4df0-8c90-fa5aa11574a2",
   "metadata": {},
   "outputs": [],
   "source": [
    "# Write a Python function to estimate R, given S, f and e.\n",
    "\n",
    "def radius_of_curvature(speed, friction, superelevation):\n",
    "    # write your solution here\n"
   ]
  },
  {
   "cell_type": "code",
   "execution_count": null,
   "id": "b38689c7-61f3-46da-8206-dce87f03bea2",
   "metadata": {},
   "outputs": [],
   "source": [
    "# Test case\n",
    "radius_of_curvature(80, 0.14, 0.08) \n",
    "# should return 229.06227630637076"
   ]
  },
  {
   "cell_type": "markdown",
   "id": "14cda282-4583-4b13-92f6-e4d7ba35720e",
   "metadata": {},
   "source": [
    "<a name=\"equivalent_resistance\"> </a>\n",
    "## Equivalent resistance\n",
    "\n",
    "Equivalent resistance is a common concept that is used to analyse circuits.\n",
    "\n",
    "When two resistors are connected in series, the equivalent resistance can be calculated with the formula:\n",
    "$$ R_{eq} = R_1 + R_2 $$\n",
    "\n",
    "When two resistors are connected in parallel, the equivalent resistance can be calculated with the formula:\n",
    "$$ R_{eq} = \\cfrac{R_1 R_2}{R_1 + R_2} $$"
   ]
  },
  {
   "cell_type": "code",
   "execution_count": null,
   "id": "38c181c1-83d9-421b-ae27-91ff9d5a9bd3",
   "metadata": {},
   "outputs": [],
   "source": [
    "# Create a Python function that calculates the equivalent resistance of two resistors in series.\n",
    "\n",
    "def series_resistance(R1, R2):\n",
    "    # write your solution here"
   ]
  },
  {
   "cell_type": "code",
   "execution_count": null,
   "id": "f2d315d6-3271-4ba0-a27c-d35ac11a6669",
   "metadata": {},
   "outputs": [],
   "source": [
    "# Create a Python function that calculates the equivalent resistance of two resistors in parallel.\n",
    "\n",
    "def parallel_resistance(R1, R2):\n",
    "    # write your solution here"
   ]
  },
  {
   "attachments": {
    "c78423c8-5ad3-46b2-92d2-5f5046fd3ebc.PNG": {
     "image/png": "[encoded data removed]"
    }
   },
   "cell_type": "markdown",
   "id": "ed4b4f3e-5003-4457-b72b-d86d9cd6d9fa",
   "metadata": {},
   "source": [
    "Consider the example circuit pictured below.\n",
    "\n",
    "![Equivalent resistance EGD103.PNG](attachment:c78423c8-5ad3-46b2-92d2-5f5046fd3ebc.PNG)\n",
    "\n",
    "The equivalent resistance of this circuit can be calculated with the following steps:\n",
    "1. Combine the 10 $\\Omega$ and 20 $\\Omega$ resistors on the left in parallel to form an equivalent $R_{eq, 1}$\n",
    "2. Combine the 10 $\\Omega$ and 5 $\\Omega$ resistors on the right in parallel to form an equivalent $R_{eq, 2}$\n",
    "3. Combine the equivalents $R_{eq, 1}$ and $R_{eq, 2}$ in series to get the equivalent resistance of the entire circuit.\n",
    "\n",
    "Call your functions from earlier to perform these three steps and solve the equivalent resistance of the circuit."
   ]
  },
  {
   "cell_type": "code",
   "execution_count": null,
   "id": "ae0a68d4-0376-47cf-847b-5648961cc1be",
   "metadata": {},
   "outputs": [],
   "source": [
    "# Solve the equivalent resistance of the circuit here by calling the functions you created earlier.\n",
    "# The expected answer is 10 Ohms"
   ]
  },
  {
   "cell_type": "markdown",
   "id": "c60f921e-c341-4042-bbf2-2bc151287068",
   "metadata": {},
   "source": [
    "<a id=\"if_statements\"></a>\n",
    "## If Statements"
   ]
  },
  {
   "cell_type": "markdown",
   "id": "93794a58-85f1-468f-9b08-703e90869ed2",
   "metadata": {
    "tags": []
   },
   "source": [
    "<a id=\"traffic_flow\"></a>\n",
    "### Traffic Flow"
   ]
  },
  {
   "cell_type": "markdown",
   "id": "a8b2b5cc-8c9e-4ff1-b6c2-cbcb364afa79",
   "metadata": {},
   "source": [
    "Traffic flow (q), speed (v) and density (k) are three fundamental variables used to define the dynamics of the traffic flow on the road. \n",
    "\n",
    "Below is the fundamental relationship between the variables:\n",
    "$$q =k.v$$\n",
    "\n",
    "A simple mathematical model relating two variables, flow (q) and density (k) is:\n",
    "\n",
    "<img src=\"data:image/png;base64,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\">\n",
    "\n",
    "Where:\n",
    "* $q_{max}$ = capacity\n",
    "* $k_c$ = critical density\n",
    "* $k_j$ = jam density"
   ]
  },
  {
   "cell_type": "code",
   "execution_count": null,
   "id": "b0373b47-f055-4694-b7fb-18f8b3586474",
   "metadata": {
    "tags": []
   },
   "outputs": [],
   "source": [
    "# Write a function to estimate flow, given the density, critical density, jam density and capacity.\n",
    "\n",
    "def estimate_flow(k, k_c, k_j, q_max) :\n",
    "    # write your solution here\n",
    "    \n",
    "# What do you think the flow would be if the density is greater than the jam density?    "
   ]
  },
  {
   "cell_type": "code",
   "execution_count": null,
   "id": "2fb06bcf-962f-4564-ba3f-675b7d809477",
   "metadata": {},
   "outputs": [],
   "source": [
    "# Create a test case to estimate the flow on the road where:\n",
    "# density is 100 veh/km/lane\n",
    "# critical density is 80 veh/km/lane and\n",
    "# jam density is 180 veh/km/lane\n",
    "# capacity is 2000 veh/hr/lane\n",
    "\n",
    "# insert function call here\n",
    "estimate_flow(100, 80, 180, 2000)\n",
    "# Result should be 1600.0 veh/hr/lane"
   ]
  },
  {
   "cell_type": "code",
   "execution_count": null,
   "id": "a98614ea-6a84-4896-8fb1-dc69523c9de2",
   "metadata": {},
   "outputs": [],
   "source": [
    "# Create a second test case to estimate \n",
    "# the flow on the road in the same conditions except where:\n",
    "# density is 20 veh/km/lane\n",
    "\n",
    "# insert function call here\n",
    "estimate_flow(20, 80, 180, 2000)\n",
    "# Result should be 500.0 veh/hr/lane"
   ]
  },
  {
   "cell_type": "markdown",
   "id": "5bfed31c-6ffc-4f16-bb61-79a4828a642b",
   "metadata": {},
   "source": [
    "<a id=\"traffic_speed\"></a>\n",
    "### Traffic Speed\n",
    "\n",
    "The relationship between flow (q) and speed (v) is expressed as:\n",
    "\n",
    "<img src=\"data:image/png;base64,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\">\n",
    "\n",
    "Where $v_{ff}$ is the free flow speed of the road (speed limit)"
   ]
  },
  {
   "cell_type": "code",
   "execution_count": null,
   "id": "3e7239ba-9c25-47dc-9f17-9ff1e6d613dd",
   "metadata": {},
   "outputs": [],
   "source": [
    "# Define function for speed estimation given flow and free flow speed.\n",
    "# Print a warning if the flow is out of bounds.\n",
    "\n",
    "def speed_estimator(q, v_ff):   \n",
    "    # write your solution here"
   ]
  },
  {
   "cell_type": "code",
   "execution_count": null,
   "id": "0cbee249-bacf-4210-afec-cdb659ce7933",
   "metadata": {},
   "outputs": [],
   "source": [
    "# flow = 2000, max speed = 100 km/hr\n",
    "speed_estimator(2000, 100) \n",
    "# should be 95.83214072946132 km/hr"
   ]
  },
  {
   "cell_type": "code",
   "execution_count": null,
   "id": "dca5d4e9-b983-4524-9e78-aec0f7703008",
   "metadata": {},
   "outputs": [],
   "source": [
    "# flow = 1600, max speed = 100 km/hr\n",
    "speed_estimator(1600, 100)\n",
    "# should be 100 km/hr"
   ]
  },
  {
   "cell_type": "markdown",
   "id": "f0365556-9120-45ae-9dbc-249d35044007",
   "metadata": {},
   "source": [
    "<a id=\"traffic_density\"></a>\n",
    "### Traffic Density"
   ]
  },
  {
   "cell_type": "code",
   "execution_count": null,
   "id": "0bd19f38-eadc-4165-aef0-051f0f7882c3",
   "metadata": {
    "tags": []
   },
   "outputs": [],
   "source": [
    "# Make calls to the speed_estimator function you have written,\n",
    "# to estimate the density on Pacific motorway with v_ff = 100 km/hr and q = 2000 veh/hr/lane\n",
    "# Note q = k.v  \n",
    "\n",
    "\n",
    "# Result should be 20.869824933224596 veh/km/lane"
   ]
  },
  {
   "cell_type": "markdown",
   "id": "c6b844e1-06ac-48da-b9ec-a0064ed3ac35",
   "metadata": {},
   "source": [
    "### Tax Calculator\n",
    "Create a user-defined function which calculates the tax an Australian resident would have to pay based on their taxable income.\n",
    "\n",
    "Formulas for tax can be found here: https://www.ato.gov.au/tax-rates-and-codes/tax-rates-australian-residents\n",
    "\n",
    "Come up with some test cases for your code, and then check your code using the simple tax calculator: https://www.ato.gov.au/single-page-applications/calculatorsandtools?anchor=STC#STC/questions\n"
   ]
  },
  {
   "cell_type": "code",
   "execution_count": null,
   "id": "e54d48a2-b145-47e7-a1da-6e71cfb4eb76",
   "metadata": {},
   "outputs": [],
   "source": [
    "# create your user-defined function here"
   ]
  },
  {
   "cell_type": "code",
   "execution_count": 1,
   "id": "4bde0e32-2900-4fd1-83c4-6d429ff03036",
   "metadata": {
    "tags": []
   },
   "outputs": [],
   "source": [
    "# create some test cases here. Try to have at least one test case for each tax bracket."
   ]
  },
  {
   "cell_type": "markdown",
   "id": "856d6605-2c9d-4608-9722-21c3e0a1d4c0",
   "metadata": {},
   "source": [
    "<a id=\"predicates\"></a>\n",
    "## Predicates (Boolean-valued Functions)\n",
    "Below you will create some predicates, which are functions that output a Boolean: True or False. Make sure to avoid anti-patterns in your solutions."
   ]
  },
  {
   "cell_type": "code",
   "execution_count": null,
   "id": "669a8fc7-0192-4e92-a0e7-2f01f0290da1",
   "metadata": {
    "tags": []
   },
   "outputs": [],
   "source": [
    "# bad example - contains anti-patterns\n",
    "def is_correct(student_answer, correct_answer):\n",
    "    tol = 0.01\n",
    "    absolute_error = abs(student_answer - correct_answer)\n",
    "    \n",
    "    if absolute_error <= tol:\n",
    "        return True\n",
    "    else:\n",
    "        return False"
   ]
  },
  {
   "cell_type": "code",
   "execution_count": null,
   "id": "9e0563e5-985c-495e-92cc-76237174149d",
   "metadata": {
    "tags": []
   },
   "outputs": [],
   "source": [
    "# better example\n",
    "def is_correct(student_answer, correct_answer):\n",
    "    tol = 0.01\n",
    "    absolute_error = abs(student_answer - correct_answer)\n",
    "    return absolute_error <= tol"
   ]
  },
  {
   "cell_type": "markdown",
   "id": "485fa9a1-7579-49e8-8489-3b5e61d7128b",
   "metadata": {},
   "source": [
    "<a id=\"is_divisible\"></a>\n",
    "### Is Divisible\n",
    "\n",
    "Create a function that determines if one number is divisible by another.\n",
    "\n",
    "Hint: use the % (modulo) operator\n",
    "\n",
    "https://docs.python.org/3.3/reference/expressions.html#binary-arithmetic-operations"
   ]
  },
  {
   "cell_type": "code",
   "execution_count": null,
   "id": "c1238fa6-3365-4135-996c-9539ff03ecd3",
   "metadata": {},
   "outputs": [],
   "source": [
    "# Write a function to determines if one number is divisible by some other number\n",
    "\n",
    "def is_divisible(numerator, denominator):\n",
    "    # write your solution here\n",
    "    "
   ]
  },
  {
   "cell_type": "code",
   "execution_count": null,
   "id": "3992c0c1-31f9-401b-b120-9b9fc6915744",
   "metadata": {},
   "outputs": [],
   "source": [
    "is_divisible(4, 4) # should return True"
   ]
  },
  {
   "cell_type": "code",
   "execution_count": null,
   "id": "698e30c0-1fe6-4106-929e-3f2b97af21ea",
   "metadata": {},
   "outputs": [],
   "source": [
    "is_divisible(12, 4) # should return True"
   ]
  },
  {
   "cell_type": "code",
   "execution_count": null,
   "id": "f88e0b03-ac34-4462-a3ae-9ade51245f55",
   "metadata": {},
   "outputs": [],
   "source": [
    "is_divisible(13, 4) # should return False"
   ]
  },
  {
   "cell_type": "code",
   "execution_count": null,
   "id": "bea42ad0-7b18-4314-b426-8e4db1863cc6",
   "metadata": {},
   "outputs": [],
   "source": [
    "is_divisible(0, 4) # should return True"
   ]
  },
  {
   "cell_type": "code",
   "execution_count": null,
   "id": "17083b4d-3a63-439b-8cae-05e4abd7e53d",
   "metadata": {},
   "outputs": [],
   "source": [
    "is_divisible(13, 1) # should return True"
   ]
  },
  {
   "cell_type": "markdown",
   "id": "4cd4c426-b83b-43a6-a322-4886198aabf2",
   "metadata": {
    "tags": []
   },
   "source": [
    "<a name=\"leap_year\"></a>\n",
    "### Leap Year"
   ]
  },
  {
   "cell_type": "code",
   "execution_count": null,
   "id": "1ae7512d-f375-4d3f-89eb-69c4bb859e24",
   "metadata": {},
   "outputs": [],
   "source": [
    "# Write a function which returns True if a given year is a leap year and False otherwise.  \n",
    "# Step one: research how leap years are determined!\n",
    "\n",
    "def leap_year(year) :\n",
    "    # write your solution here\n",
    "        \n",
    "# Have you violated any Boolean anti-patterns?\n",
    "\n",
    "# Can you write the function without using constants True or False?"
   ]
  },
  {
   "cell_type": "code",
   "execution_count": null,
   "id": "c8d82023-0d24-4799-b627-f39951be5978",
   "metadata": {},
   "outputs": [],
   "source": [
    "leap_year(2008) # should be True"
   ]
  },
  {
   "cell_type": "code",
   "execution_count": null,
   "id": "71b14067-2239-4e1c-84c1-72698e04b2e5",
   "metadata": {},
   "outputs": [],
   "source": [
    "leap_year(2000)  # should be True"
   ]
  },
  {
   "cell_type": "code",
   "execution_count": null,
   "id": "61d5c235-167e-47b5-b9bc-774441c3b949",
   "metadata": {},
   "outputs": [],
   "source": [
    "leap_year(1600) # should be True"
   ]
  },
  {
   "cell_type": "code",
   "execution_count": null,
   "id": "a620e981-4713-4250-8535-19f689e51fd8",
   "metadata": {},
   "outputs": [],
   "source": [
    "leap_year(2014) # should be False"
   ]
  },
  {
   "cell_type": "code",
   "execution_count": null,
   "id": "da2154a5-0cbe-4dd9-8916-f2dcf9738dd3",
   "metadata": {},
   "outputs": [],
   "source": [
    "leap_year(1900) # should be False"
   ]
  },
  {
   "cell_type": "code",
   "execution_count": null,
   "id": "d07f89f7-0cf2-4900-bf89-eaa9fc428387",
   "metadata": {},
   "outputs": [],
   "source": [
    "leap_year(2100) # should be False"
   ]
  },
  {
   "cell_type": "markdown",
   "id": "1c91609f-9741-4f8a-8b29-a15e3049feec",
   "metadata": {},
   "source": [
    "<a id=\"boolean_algebra\"></a>\n",
    "### Boolean Algebra\n",
    "\n",
    "Consider the Python logical ***and*** operator. There are two boolean operands, each of which can be either True or False. That makes a total of 4 possible combinations:"
   ]
  },
  {
   "cell_type": "code",
   "execution_count": null,
   "id": "c0de38f2-be8d-4789-8c40-4d25058160b6",
   "metadata": {},
   "outputs": [],
   "source": [
    "False and False"
   ]
  },
  {
   "cell_type": "code",
   "execution_count": null,
   "id": "3b35669b-28a3-4522-802a-49905738049e",
   "metadata": {},
   "outputs": [],
   "source": [
    "False and True"
   ]
  },
  {
   "cell_type": "code",
   "execution_count": null,
   "id": "6fa3911f-a506-416d-a63d-4abb125e8e6f",
   "metadata": {},
   "outputs": [],
   "source": [
    "True and False"
   ]
  },
  {
   "cell_type": "code",
   "execution_count": null,
   "id": "0a6e325b-2004-4e72-87f9-359cf2c861f5",
   "metadata": {},
   "outputs": [],
   "source": [
    "True and True"
   ]
  },
  {
   "cell_type": "markdown",
   "id": "c5ce0fbf-fa19-4bd8-ad9b-a47afbaa3484",
   "metadata": {},
   "source": [
    "These results can be summarised in a ***truth table***:\n",
    "\n",
    "| A | B | A and B |\n",
    "| --- | --- | --- |\n",
    "| False | False | False |\n",
    "| False | True | False |\n",
    "| True | False | False |\n",
    "| True | True | True |"
   ]
  },
  {
   "cell_type": "code",
   "execution_count": null,
   "id": "1be5d619-688f-4a73-b611-ffd2f23abf4e",
   "metadata": {},
   "outputs": [],
   "source": [
    "# Perform the same tests and create similar truth tables for the Python logical \"or\" and \"not\"  operators"
   ]
  },
  {
   "cell_type": "code",
   "execution_count": null,
   "id": "75b8aefe-b7d1-41ce-ab4f-360c0d94057b",
   "metadata": {},
   "outputs": [],
   "source": [
    "False or False"
   ]
  },
  {
   "cell_type": "code",
   "execution_count": null,
   "id": "1cb459f4-89a0-4687-9f89-e74359e0bae4",
   "metadata": {},
   "outputs": [],
   "source": [
    "False or True"
   ]
  },
  {
   "cell_type": "code",
   "execution_count": null,
   "id": "6f1f09c6-bcf1-49fc-b64d-0d6d1a6d36eb",
   "metadata": {},
   "outputs": [],
   "source": [
    "True or False"
   ]
  },
  {
   "cell_type": "code",
   "execution_count": null,
   "id": "2cf0b8d6-a6da-4d61-8c32-41e2cf9dd091",
   "metadata": {},
   "outputs": [],
   "source": [
    "True or True"
   ]
  },
  {
   "cell_type": "code",
   "execution_count": null,
   "id": "ac697a0e-098e-44d5-8849-7f178cb00b5e",
   "metadata": {},
   "outputs": [],
   "source": [
    "not True"
   ]
  },
  {
   "cell_type": "code",
   "execution_count": null,
   "id": "4681dc96-2f76-4f49-94ae-4f8ec6986811",
   "metadata": {},
   "outputs": [],
   "source": [
    "not False"
   ]
  },
  {
   "cell_type": "markdown",
   "id": "7fe8d357-6ffd-4328-b006-1fe83e828692",
   "metadata": {},
   "source": [
    "| A | B | A or B |\n",
    "| --- | --- | --- |\n",
    "| False | False | ? |\n",
    "| False | True | ? |\n",
    "| True | False | ? |\n",
    "| True | True | ? |\n",
    "\n",
    "| A | not A |\n",
    "| --- | --- |\n",
    "| False | ? |\n",
    "| True | ? |"
   ]
  },
  {
   "cell_type": "code",
   "execution_count": null,
   "id": "8486a1c9",
   "metadata": {},
   "outputs": [],
   "source": [
    "# In Boolean logic, the XOR (Exclusive-OR) expression is True when only one\n",
    "# of its operands is True.  If both operands are True or both operands \n",
    "# are False, then XOR is False.  Write a function to implement the XOR operator.\n",
    "\n",
    "def XOR(a, b) :\n",
    "    # write you solution here\n",
    "\n",
    "# Have you violated any Boolean anti-patterns?\n",
    "\n",
    "# Can you write the function without using constants True or False?"
   ]
  },
  {
   "cell_type": "code",
   "execution_count": null,
   "id": "dc00f318-9d73-449a-9ae3-2e4db06ca2d8",
   "metadata": {},
   "outputs": [],
   "source": [
    "XOR(False, False) # should return False"
   ]
  },
  {
   "cell_type": "code",
   "execution_count": null,
   "id": "7bcb03dd-29e0-402d-919e-665f956b0cd3",
   "metadata": {},
   "outputs": [],
   "source": [
    "XOR(False, True) # should return True"
   ]
  },
  {
   "cell_type": "code",
   "execution_count": null,
   "id": "d25010f3-2588-42be-8e86-b147ae224fbd",
   "metadata": {},
   "outputs": [],
   "source": [
    "XOR(True, False) # should return True"
   ]
  },
  {
   "cell_type": "code",
   "execution_count": null,
   "id": "0dcc24fc-5ee9-4748-9557-4ef01b48edac",
   "metadata": {},
   "outputs": [],
   "source": [
    "XOR(True, True) # should return False"
   ]
  },
  {
   "cell_type": "markdown",
   "id": "c6c09b6e-809d-4983-b558-6cfb1a4ab47c",
   "metadata": {},
   "source": [
    "<a id=\"binary_representation\"></a>\n",
    "## Binary Representation\n",
    "\n",
    "We know that numbers are represented internally as a sequence of binary digits.\n",
    "\n",
    "For example, the decimal number 13 is represented as the binary number 1101."
   ]
  },
  {
   "cell_type": "code",
   "execution_count": null,
   "id": "6aa47080-3ddc-4d01-bed5-72168ce65e3f",
   "metadata": {},
   "outputs": [],
   "source": [
    "# What is the binary representation of the number 14?\n"
   ]
  },
  {
   "cell_type": "code",
   "execution_count": null,
   "id": "2f03e87c-9319-4aca-bedc-fbdc5554e453",
   "metadata": {},
   "outputs": [],
   "source": [
    "# What is the decimal representation of the binary number 10010?\n"
   ]
  },
  {
   "cell_type": "markdown",
   "id": "0dc8ac34-4709-4601-9d06-3eec236f64cb",
   "metadata": {},
   "source": [
    "Boolean values in Python are also represented internally in binary, with 0 used for False and 1 used for True.\n",
    "\n",
    "Some programming languages don't even have a Boolean type, they just use integer numbers directly to represent boolean concepts.\n",
    "\n",
    "Python also overloads the boolean operators *and*, *or* and *not* by allowing them to operate on numbers as well as boolean values. \n",
    "\n",
    "Try evaluating the following expressions:\n",
    "- 0 and 0\n",
    "- 0 and 1\n",
    "- 1 and 0\n",
    "- 1 and 1"
   ]
  },
  {
   "cell_type": "code",
   "execution_count": 19,
   "id": "9e895484-1d5d-4155-88ce-df834ec5cfb8",
   "metadata": {},
   "outputs": [
    {
     "data": {
      "text/plain": [
       "0"
      ]
     },
     "execution_count": 19,
     "metadata": {},
     "output_type": "execute_result"
    }
   ],
   "source": [
    "0 and 0"
   ]
  },
  {
   "cell_type": "code",
   "execution_count": 20,
   "id": "81e29cc5-a939-4cc2-9ec3-1bce7c25f44a",
   "metadata": {},
   "outputs": [
    {
     "data": {
      "text/plain": [
       "0"
      ]
     },
     "execution_count": 20,
     "metadata": {},
     "output_type": "execute_result"
    }
   ],
   "source": [
    "0 and 1"
   ]
  },
  {
   "cell_type": "code",
   "execution_count": null,
   "id": "52d56add-72fc-43fd-b1f5-e9d270677b2c",
   "metadata": {},
   "outputs": [],
   "source": [
    "1 and 0"
   ]
  },
  {
   "cell_type": "code",
   "execution_count": null,
   "id": "1d0243b9-fdc3-4743-8c63-b183b7116dab",
   "metadata": {},
   "outputs": [],
   "source": [
    "1 and 1"
   ]
  },
  {
   "cell_type": "code",
   "execution_count": null,
   "id": "c208c4ce-65ac-4e2e-a5f7-a1bcc3995e22",
   "metadata": {},
   "outputs": [],
   "source": [
    "# What pattern do you observe? \n",
    "\n",
    "# Answer: "
   ]
  },
  {
   "cell_type": "markdown",
   "id": "b66c245f-12cf-4dda-a9ca-c918254df5f4",
   "metadata": {},
   "source": [
    "Perform the same tests for the *or* and *not* operators."
   ]
  },
  {
   "cell_type": "code",
   "execution_count": null,
   "id": "55aa9199-c672-48e9-aaa8-4bb793c2c2b6",
   "metadata": {},
   "outputs": [],
   "source": [
    "0 or 0"
   ]
  },
  {
   "cell_type": "code",
   "execution_count": null,
   "id": "fea2a103-ff3c-41eb-9544-fb81b1c9cb0e",
   "metadata": {},
   "outputs": [],
   "source": [
    "0 or 1"
   ]
  },
  {
   "cell_type": "code",
   "execution_count": null,
   "id": "735786fc-85f9-430e-98f2-379dc97dfbc0",
   "metadata": {},
   "outputs": [],
   "source": [
    "1 or 0"
   ]
  },
  {
   "cell_type": "code",
   "execution_count": null,
   "id": "01a81424-a2c6-4131-bb91-fa26bf986c28",
   "metadata": {},
   "outputs": [],
   "source": [
    "1 or 1"
   ]
  },
  {
   "cell_type": "code",
   "execution_count": null,
   "id": "4f7b5882-19c7-4cf3-8535-fe71bc2d2b8c",
   "metadata": {},
   "outputs": [],
   "source": [
    "not 0"
   ]
  },
  {
   "cell_type": "code",
   "execution_count": null,
   "id": "d9d355ff-75a1-4795-9c42-1f143de15e64",
   "metadata": {},
   "outputs": [],
   "source": [
    "not 1"
   ]
  },
  {
   "cell_type": "code",
   "execution_count": null,
   "id": "f07e082b-a28e-45ad-a722-b71bf7047702",
   "metadata": {},
   "outputs": [],
   "source": [
    "# What pattern do you observe? \n",
    "# Answer: "
   ]
  },
  {
   "cell_type": "markdown",
   "id": "3cc938bd-c616-40ef-aaaf-39f90bc9c4ed",
   "metadata": {},
   "source": [
    "What happens if we perform boolean operations on numbers other than 0 and 1?\n",
    "\n",
    "Try evaluating the following expressions:"
   ]
  },
  {
   "cell_type": "code",
   "execution_count": null,
   "id": "8daea393-c8ad-4373-8315-261a10b11021",
   "metadata": {},
   "outputs": [],
   "source": [
    "0 and 5"
   ]
  },
  {
   "cell_type": "code",
   "execution_count": null,
   "id": "7ef1d5ea-c057-479c-9533-6cab8af661b5",
   "metadata": {},
   "outputs": [],
   "source": [
    "0 and 3"
   ]
  },
  {
   "cell_type": "code",
   "execution_count": null,
   "id": "5e520b87-11a3-4e98-9947-418705da2da1",
   "metadata": {},
   "outputs": [],
   "source": [
    "1 and 3"
   ]
  },
  {
   "cell_type": "code",
   "execution_count": null,
   "id": "c47c86db-a0e4-403e-97cf-bca1fa568e65",
   "metadata": {},
   "outputs": [],
   "source": [
    "1 and 5"
   ]
  },
  {
   "cell_type": "code",
   "execution_count": null,
   "id": "d61e7781-0813-467f-a0c7-dbb60d18ee16",
   "metadata": {},
   "outputs": [],
   "source": [
    "3 and 1"
   ]
  },
  {
   "cell_type": "code",
   "execution_count": null,
   "id": "d7b95983-3752-4a35-924b-8d6ebeac2d1c",
   "metadata": {},
   "outputs": [],
   "source": [
    "3 and 5"
   ]
  },
  {
   "cell_type": "code",
   "execution_count": null,
   "id": "ee8b5457-b48f-4e16-8752-e7ac8bb1373d",
   "metadata": {},
   "outputs": [],
   "source": [
    "-1 and 3"
   ]
  },
  {
   "cell_type": "code",
   "execution_count": 9,
   "id": "ee2d37f6-c102-49f6-a2cb-ab1e16a41483",
   "metadata": {},
   "outputs": [
    {
     "data": {
      "text/plain": [
       "5.6"
      ]
     },
     "execution_count": 9,
     "metadata": {},
     "output_type": "execute_result"
    }
   ],
   "source": [
    "3.4 and 5.6"
   ]
  },
  {
   "cell_type": "code",
   "execution_count": null,
   "id": "9d9fb791-664c-4f16-bc13-13b77b58a6d0",
   "metadata": {},
   "outputs": [],
   "source": [
    "False and 4"
   ]
  },
  {
   "cell_type": "code",
   "execution_count": null,
   "id": "6b28fcf0-d2d4-4f63-accb-ee7be1ef8ee3",
   "metadata": {},
   "outputs": [],
   "source": [
    "3 and True"
   ]
  },
  {
   "cell_type": "code",
   "execution_count": null,
   "id": "b7858171-f82f-45d1-90a3-ddefb98fb058",
   "metadata": {},
   "outputs": [],
   "source": [
    "# What pattern do you observe?\n",
    "# Answer: "
   ]
  },
  {
   "cell_type": "code",
   "execution_count": null,
   "id": "e54713a8-7dc4-4ff5-a581-15a2972ce32e",
   "metadata": {},
   "outputs": [],
   "source": [
    "# Write a function that takes two numbers A and B as parameters and returns the equivalent of the Python and operator\n",
    "def And(A, B) :\n",
    "    # write your solution here"
   ]
  },
  {
   "cell_type": "code",
   "execution_count": null,
   "id": "840bf7ca-970d-4600-be7f-697d86a9072a",
   "metadata": {},
   "outputs": [],
   "source": [
    "# Test that it works as expected"
   ]
  },
  {
   "cell_type": "code",
   "execution_count": null,
   "id": "15afcfcd-f3d9-47b6-a1bf-c6cebb82b65b",
   "metadata": {},
   "outputs": [],
   "source": [
    "And(0, 5) == (0 and 5)"
   ]
  },
  {
   "cell_type": "code",
   "execution_count": null,
   "id": "0b541de6-5362-4e62-91dc-2771c0c62696",
   "metadata": {},
   "outputs": [],
   "source": [
    "And(0, 3) == (0 and 3)"
   ]
  },
  {
   "cell_type": "code",
   "execution_count": null,
   "id": "173b6b63-b51c-4f5d-acf6-be7661270e1b",
   "metadata": {},
   "outputs": [],
   "source": [
    "And(1, 3) == (1 and 3)"
   ]
  },
  {
   "cell_type": "code",
   "execution_count": null,
   "id": "2ab4f8e1-3e2e-45e9-b6a0-39e7a148c967",
   "metadata": {},
   "outputs": [],
   "source": [
    "And(1, 5) == (1 and 5)"
   ]
  },
  {
   "cell_type": "code",
   "execution_count": null,
   "id": "6617ac61-d6ef-4f73-baee-7eb74a08878c",
   "metadata": {},
   "outputs": [],
   "source": [
    "And(3, 1) == (3 and 1)"
   ]
  },
  {
   "cell_type": "code",
   "execution_count": null,
   "id": "d6537990-f6dd-40d4-aef5-6aa6de9cadc4",
   "metadata": {},
   "outputs": [],
   "source": [
    "And(3, 5) == (3 and 5)"
   ]
  },
  {
   "cell_type": "code",
   "execution_count": null,
   "id": "e31de02e-5e4e-4daf-98e2-1cd8e0164ba2",
   "metadata": {},
   "outputs": [],
   "source": [
    "And(-1, 3) == (-1 and 3)"
   ]
  },
  {
   "cell_type": "code",
   "execution_count": null,
   "id": "84357bb7-33fb-4ee6-8e2f-1c3497840409",
   "metadata": {},
   "outputs": [],
   "source": [
    "And(3.4, 5.6) == (3.4 and 5.6)"
   ]
  },
  {
   "cell_type": "code",
   "execution_count": null,
   "id": "9282e335-f28b-4120-bde0-58f2b124a0f0",
   "metadata": {},
   "outputs": [],
   "source": [
    "And(False, 4) == (False and 4)"
   ]
  },
  {
   "cell_type": "code",
   "execution_count": null,
   "id": "508a3efd-284c-43c4-aa3f-e714fb7e51d3",
   "metadata": {},
   "outputs": [],
   "source": [
    "And(3, True) == (3 and True)"
   ]
  },
  {
   "cell_type": "code",
   "execution_count": null,
   "id": "8adda5b9-33a0-493b-aded-a7049cc844d8",
   "metadata": {},
   "outputs": [],
   "source": [
    "# Perform similar tests for Python's logical 'or' and 'not' operators."
   ]
  },
  {
   "cell_type": "code",
   "execution_count": null,
   "id": "cfd866de-58ec-4f09-94a0-d363a9c60a78",
   "metadata": {},
   "outputs": [],
   "source": [
    " 0 or 5"
   ]
  },
  {
   "cell_type": "code",
   "execution_count": null,
   "id": "12fbe286-be38-42dc-81f0-312ee8364952",
   "metadata": {},
   "outputs": [],
   "source": [
    "0 or 3"
   ]
  },
  {
   "cell_type": "code",
   "execution_count": null,
   "id": "512b29da-193d-4164-934d-6eeb14867725",
   "metadata": {},
   "outputs": [],
   "source": [
    "1 or 3"
   ]
  },
  {
   "cell_type": "code",
   "execution_count": null,
   "id": "d72c91da-bcfc-4fd8-9d23-f6408556cbf6",
   "metadata": {},
   "outputs": [],
   "source": [
    "1 or 5"
   ]
  },
  {
   "cell_type": "code",
   "execution_count": null,
   "id": "ad3ba181-531f-4424-9919-d3f9c803737e",
   "metadata": {},
   "outputs": [],
   "source": [
    "3 or 1"
   ]
  },
  {
   "cell_type": "code",
   "execution_count": null,
   "id": "693d80cd-f136-4e76-82d8-7966225465c0",
   "metadata": {},
   "outputs": [],
   "source": [
    "3 or 5"
   ]
  },
  {
   "cell_type": "code",
   "execution_count": null,
   "id": "e41c5dd0-fa66-4dd4-b776-322848d2a9d9",
   "metadata": {},
   "outputs": [],
   "source": [
    "-1 or 3"
   ]
  },
  {
   "cell_type": "code",
   "execution_count": null,
   "id": "fdbfde25-bf73-409f-b30c-24b922dcf24a",
   "metadata": {},
   "outputs": [],
   "source": [
    "3.4 or 5.6"
   ]
  },
  {
   "cell_type": "code",
   "execution_count": null,
   "id": "164365de-5880-4170-96ea-9e04b5980a97",
   "metadata": {},
   "outputs": [],
   "source": [
    "False or 4"
   ]
  },
  {
   "cell_type": "code",
   "execution_count": null,
   "id": "6193ee99-7963-4d88-9618-21579ed83edc",
   "metadata": {},
   "outputs": [],
   "source": [
    "3 or True"
   ]
  },
  {
   "cell_type": "code",
   "execution_count": null,
   "id": "641e37b9-c673-44c1-a4da-436f6b967fe2",
   "metadata": {},
   "outputs": [],
   "source": [
    "not 2"
   ]
  },
  {
   "cell_type": "code",
   "execution_count": null,
   "id": "fe48636f-6418-4b22-9355-d9122c851345",
   "metadata": {},
   "outputs": [],
   "source": [
    "not -3"
   ]
  },
  {
   "cell_type": "code",
   "execution_count": null,
   "id": "9dd69a84-5435-466f-b317-f67c09585331",
   "metadata": {},
   "outputs": [],
   "source": [
    "# What pattern do you observe?\n",
    "\n",
    "# Answer: "
   ]
  },
  {
   "cell_type": "code",
   "execution_count": null,
   "id": "d05f943a-c699-41be-b950-5de53eb0baff",
   "metadata": {},
   "outputs": [],
   "source": [
    "# Write a function that takes two numbers A and B as parameters and returns the equivalent of the Python or operator\n",
    "def Or(A, B) :\n",
    "    # write your solution here"
   ]
  },
  {
   "cell_type": "code",
   "execution_count": null,
   "id": "bc7b7dfa-07dc-47fb-924f-2c6614ba8e7d",
   "metadata": {},
   "outputs": [],
   "source": [
    "# Test that it works as expected"
   ]
  },
  {
   "cell_type": "code",
   "execution_count": null,
   "id": "cab832e2-bfff-43c5-8212-da30fa3f7751",
   "metadata": {},
   "outputs": [],
   "source": [
    "Or(0, 5) == (0 or 5)"
   ]
  },
  {
   "cell_type": "code",
   "execution_count": null,
   "id": "4219d2b7-9abd-449f-9448-e708a8ca74df",
   "metadata": {},
   "outputs": [],
   "source": [
    "Or(0, 3) == (0 or 3)"
   ]
  },
  {
   "cell_type": "code",
   "execution_count": null,
   "id": "9d812f39-4710-4bbb-9ee7-bf19c1ece83d",
   "metadata": {},
   "outputs": [],
   "source": [
    "Or(1, 3) == (1 or 3)"
   ]
  },
  {
   "cell_type": "code",
   "execution_count": null,
   "id": "f25061a6-baf3-4c99-9696-9fcb42d2cae3",
   "metadata": {},
   "outputs": [],
   "source": [
    "Or(1, 5) == (1 or 5)"
   ]
  },
  {
   "cell_type": "code",
   "execution_count": null,
   "id": "7982b08e-f5ad-4606-a121-d5064925933b",
   "metadata": {},
   "outputs": [],
   "source": [
    "Or(3, 1) == (3 or 1)"
   ]
  },
  {
   "cell_type": "code",
   "execution_count": null,
   "id": "ddc0f462-1af3-43bc-a6aa-48e2e15f98e7",
   "metadata": {},
   "outputs": [],
   "source": [
    "Or(3, 5) == (3 or 5)"
   ]
  },
  {
   "cell_type": "code",
   "execution_count": null,
   "id": "b438fc59-e4d9-4f07-8eb8-138a85932710",
   "metadata": {},
   "outputs": [],
   "source": [
    "Or(-1, 3) == (-1 or 3)"
   ]
  },
  {
   "cell_type": "code",
   "execution_count": null,
   "id": "849b3366-8bf4-49f6-a651-2ffa3c6f485b",
   "metadata": {},
   "outputs": [],
   "source": [
    "Or(3.4, 5.6) == (3.4 or 5.6)"
   ]
  },
  {
   "cell_type": "code",
   "execution_count": null,
   "id": "5bd11325-ea4a-4b4f-b5eb-90224c1a0747",
   "metadata": {},
   "outputs": [],
   "source": [
    "Or(False, 4) == (False or 4)"
   ]
  },
  {
   "cell_type": "code",
   "execution_count": null,
   "id": "14f997d8-bb4d-438b-8f4a-912bdab7d908",
   "metadata": {},
   "outputs": [],
   "source": [
    "Or(3, True) == (3 or True)"
   ]
  },
  {
   "cell_type": "code",
   "execution_count": null,
   "id": "551f371c-da9b-459d-a49a-79552d32249b",
   "metadata": {},
   "outputs": [],
   "source": [
    "# Write a function that takes a number A as a parameter and returns the equivalent of the Python not operator\n",
    "def Not(A) :\n",
    "    # write your solution here"
   ]
  },
  {
   "cell_type": "code",
   "execution_count": null,
   "id": "66bfbd3a-6ca7-490b-9539-4f0df9adbee6",
   "metadata": {},
   "outputs": [],
   "source": [
    "# Test that it works as expected"
   ]
  },
  {
   "cell_type": "code",
   "execution_count": null,
   "id": "c0409090-77d1-4167-8df2-9feb74b5f94f",
   "metadata": {},
   "outputs": [],
   "source": [
    "Not(2) == (not 2)"
   ]
  },
  {
   "cell_type": "code",
   "execution_count": null,
   "id": "9a785212-0b74-4178-9866-20eece4954b3",
   "metadata": {},
   "outputs": [],
   "source": [
    "Not(0) == (not 0)"
   ]
  },
  {
   "cell_type": "code",
   "execution_count": null,
   "id": "629ecd11-bbee-43e1-8ebf-d9f8dbc6f0fe",
   "metadata": {},
   "outputs": [],
   "source": [
    "Not(-3) == (not -3)"
   ]
  }
 ],
 "metadata": {
  "kernelspec": {
   "display_name": "Python 3 (ipykernel)",
   "language": "python",
   "name": "python3"
  },
  "language_info": {
   "codemirror_mode": {
    "name": "ipython",
    "version": 3
   },
   "file_extension": ".py",
   "mimetype": "text/x-python",
   "name": "python",
   "nbconvert_exporter": "python",
   "pygments_lexer": "ipython3",
   "version": "3.10.12"
  }
 },
 "nbformat": 4,
 "nbformat_minor": 5
}
