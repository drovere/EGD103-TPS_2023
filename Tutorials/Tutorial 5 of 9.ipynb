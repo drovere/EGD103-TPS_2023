{
 "cells": [
  {
   "cell_type": "markdown",
   "id": "056b1ad5-ae7d-4f82-a9ba-b0b477d34665",
   "metadata": {},
   "source": [
    "# Topic: More Data Types\n",
    "In this tutorial you will learn about some more data types in Python. The focus in the main exercises will be on arrays, since a lot of this content will be used when we start learning about data processing. The additional exercises will focus on the other data types."
   ]
  },
  {
   "cell_type": "markdown",
   "id": "8410dbb2-a07e-4580-b7ae-2da705305b04",
   "metadata": {},
   "source": [
    "## Core Exercises\n",
    "\n",
    "[NumPy Basics and Elementwise Operations](#numpy_basics)<br>\n",
    "\n",
    "[Filtering and Aggregates](#aggregates)<br>\n",
    "\n",
    "[User Input and Formatted Output Strings](#input_and_output):\n",
    "> [Exercise: Cash Register](#cash_register)<br>\n",
    "\n",
    "## Extension Exercises\n",
    "\n",
    "[Strings](#strings):\n",
    "> [Exercise: Word Count](#word_count)<br>\n",
    "\n",
    "[Sets](#sets):\n",
    "> [Exercise: Unique Words](#unique_words)<br>\n",
    "> [Exercise: Shared Words](#shared_words)<br>\n",
    "\n",
    "[Dictionaries](#dictionaries):\n",
    "> [Exercise: Word Frequency Counter](#word_frequency)<br>\n",
    "> [Exercise: Sorting a Dictionary](#dictionary_sort)<br>\n",
    "\n"
   ]
  },
  {
   "cell_type": "markdown",
   "id": "fda8a03f-ed2f-4c42-81f6-9a21904d25a1",
   "metadata": {},
   "source": [
    "<a name=\"numpy_basics\"> </a>\n",
    "## NumPy basics and element-wise operations"
   ]
  },
  {
   "cell_type": "code",
   "execution_count": null,
   "id": "37db0783-0b86-4b5e-be2b-6c0781a38826",
   "metadata": {
    "tags": []
   },
   "outputs": [],
   "source": [
    "import numpy as np"
   ]
  },
  {
   "cell_type": "markdown",
   "id": "16d5dce4-28f4-4064-a314-5697ae99c78b",
   "metadata": {},
   "source": [
    "### One dimensional array (vector)"
   ]
  },
  {
   "cell_type": "code",
   "execution_count": null,
   "id": "17f062e9-d33d-4ead-b52b-666d8ed279d9",
   "metadata": {
    "tags": []
   },
   "outputs": [],
   "source": [
    "# create a list containing all the integers from 0 to 100\n"
   ]
  },
  {
   "cell_type": "code",
   "execution_count": null,
   "id": "201ad4de-9323-4f50-b923-5d8c6c088599",
   "metadata": {
    "tags": []
   },
   "outputs": [],
   "source": [
    "# now create a numpy array containing the integers from 0 to 100\n"
   ]
  },
  {
   "cell_type": "code",
   "execution_count": null,
   "id": "f1f7301d-1d56-4fb4-b5e4-0bf57feadada",
   "metadata": {
    "tags": []
   },
   "outputs": [],
   "source": [
    "# you would like to determine the square of each number from 0 to 100 and store them in a sequence (a list or an array is fine)\n",
    "\n",
    "# a) demonstrate how to do this with a list by iterating with a for loop.\n",
    "\n",
    "\n",
    "# b) demonstrate how to do this with an array by using an element-wise operation.\n",
    "\n",
    "\n",
    "# which method is easier?"
   ]
  },
  {
   "cell_type": "code",
   "execution_count": null,
   "id": "e9c33524-4e3b-45ba-8f8c-fd42ae73bbe5",
   "metadata": {
    "tags": []
   },
   "outputs": [],
   "source": [
    "# now suppose we wanted to find the cosine of 100 evenly spaced values between 0 and 2*pi\n",
    "\n",
    "# a) create a numpy array of 100 evenly spaced values between 0 and 2*pi\n",
    "\n",
    "\n",
    "# b) use numpy's cos function to find the cosine of each of these numbers\n",
    "\n",
    "\n",
    "# now run the code below to visualise your answer"
   ]
  },
  {
   "cell_type": "code",
   "execution_count": null,
   "id": "ff2312c1-4329-4f18-a143-869ce1d0198b",
   "metadata": {
    "tags": []
   },
   "outputs": [],
   "source": [
    "# plotting previous answer\n",
    "fig, ax = plt.subplots()\n",
    "ax.plot(x, cos_x)\n",
    "ax.set_title('Plot of $y = cos(x)$')\n",
    "ax.set_xlabel('x')\n",
    "ax.set_ylabel('y')\n",
    "plt.show()"
   ]
  },
  {
   "cell_type": "markdown",
   "id": "2c864a81-90fc-410e-b72d-129b909bc031",
   "metadata": {},
   "source": [
    "### Two dimensional array (matrix)"
   ]
  },
  {
   "cell_type": "code",
   "execution_count": null,
   "id": "fb74db9f-2bc2-4ab8-a5b0-b46868b3f075",
   "metadata": {
    "tags": []
   },
   "outputs": [],
   "source": [
    "# below is an example 4 x 3 matrix that has been represented with a list of lists.\n",
    "matrix = [[5, 1, 3], [7, 4, 2], [1, 3, 1], [4, 5, 9]]"
   ]
  },
  {
   "cell_type": "code",
   "execution_count": null,
   "id": "0db65ffc-393a-45fc-ad02-3092b00c5ee1",
   "metadata": {
    "tags": []
   },
   "outputs": [],
   "source": [
    "# convert the list of lists above to a numpy array\n"
   ]
  },
  {
   "cell_type": "code",
   "execution_count": null,
   "id": "004659b8-5e6c-441b-8e9b-3d830fe472f9",
   "metadata": {
    "tags": []
   },
   "outputs": [],
   "source": [
    "# use the ndim attribute to confirm the matrix has two dimensions\n"
   ]
  },
  {
   "cell_type": "code",
   "execution_count": null,
   "id": "3e1487ef-68a8-4e32-ad3b-4d0c7e61af4e",
   "metadata": {
    "tags": []
   },
   "outputs": [],
   "source": [
    "# use the shape attribute to confirm the dimensions of the matrix are 4 x 3\n"
   ]
  },
  {
   "cell_type": "code",
   "execution_count": null,
   "id": "1547f866-9e44-44e2-804e-50b7d2e64c53",
   "metadata": {
    "tags": []
   },
   "outputs": [],
   "source": [
    "# divide every element of the matrix by 10\n"
   ]
  },
  {
   "cell_type": "markdown",
   "id": "155ce9d6-c5a9-4729-b97c-5db264e7846c",
   "metadata": {},
   "source": [
    "<a name=\"aggregates\"> </a>\n",
    "## Filtering and Aggregates"
   ]
  },
  {
   "cell_type": "code",
   "execution_count": null,
   "id": "7fcccead-8fd6-46f4-87d3-d204bbb817ee",
   "metadata": {},
   "outputs": [],
   "source": [
    "# below is a numpy array that represents daily minimum and maximum temperatures over the course of a month\n",
    "temperature_data = np.array([[1, 13.3, 25.8],\n",
    "                           [2, 15.1, 23.5],\n",
    "                           [3, 13.1, 20.8],\n",
    "                           [4, 13.1, 22.9],\n",
    "                           [5, 12.1, 23.4],\n",
    "                           [6, 12.7, 19.3],\n",
    "                           [7, 12.4, 21.6],\n",
    "                           [8, 12.2, 22.6],\n",
    "                           [9, 11.8, 22.9],\n",
    "                           [10, 10.3, 23.3],\n",
    "                           [11, 9.9, 27.8],\n",
    "                           [12, 10.1, 26.4],\n",
    "                           [13, 12.1, 29.1],\n",
    "                           [14, 13.1, 27.9],\n",
    "                           [15, 11.3, 26.1],\n",
    "                           [16, 14.5, 23.7],\n",
    "                           [17, 14.7, 24.2],\n",
    "                           [18, 16.7, 25.1],\n",
    "                           [19, 13.4, 22.4],\n",
    "                           [20, 8.7, 23.3],\n",
    "                           [21, 11.1, 24.4],\n",
    "                           [22, 12.4, 25.9],\n",
    "                           [23, 14.0, 28.1],\n",
    "                           [24, 13.6, 24.3],\n",
    "                           [25, 13.2, 25.3],\n",
    "                           [26, 11.8, 24.1],\n",
    "                           [27, 14.2, 24.7],\n",
    "                           [28, 13.4, 24.7],\n",
    "                           [29, 13.2, 25.5],\n",
    "                           [30, 13.7, 25.7]])"
   ]
  },
  {
   "cell_type": "code",
   "execution_count": null,
   "id": "9ebd13b7-1c16-45ba-9ba5-f7609f53f879",
   "metadata": {
    "tags": []
   },
   "outputs": [],
   "source": [
    "# we can access each column of the temperature data by indexing\n",
    "days = temperature_data[:, 0]\n",
    "min_temps = temperature_data[:, 1]\n",
    "max_temps = temperature_data[:, 2]"
   ]
  },
  {
   "cell_type": "code",
   "execution_count": null,
   "id": "74f0fa33-75f1-4a0a-83b7-4ea916712493",
   "metadata": {
    "tags": []
   },
   "outputs": [],
   "source": [
    "# what was the highest temperature in the month?\n"
   ]
  },
  {
   "cell_type": "code",
   "execution_count": null,
   "id": "e2e53006-577a-4006-954b-f80262787041",
   "metadata": {
    "tags": []
   },
   "outputs": [],
   "source": [
    "# what was the average maximum daily temperature for the month?\n"
   ]
  },
  {
   "cell_type": "code",
   "execution_count": null,
   "id": "fe21afd9-e533-4de3-9c6e-d4ff7681006f",
   "metadata": {
    "tags": []
   },
   "outputs": [],
   "source": [
    "# what is the standard deviation for maximum temperature that month?\n"
   ]
  },
  {
   "cell_type": "code",
   "execution_count": null,
   "id": "c4afd104-c5e3-4a1b-b982-3e84cefacf02",
   "metadata": {
    "tags": []
   },
   "outputs": [],
   "source": [
    "# create a logical array that says whether a day is warm. It should say True (1) for temperatures above 26 degrees and False (0) otherwise\n"
   ]
  },
  {
   "cell_type": "code",
   "execution_count": null,
   "id": "7292afe0-a866-4686-9843-dde6fdc0a63e",
   "metadata": {
    "tags": []
   },
   "outputs": [],
   "source": [
    "# how many warm days occurred in the month?\n"
   ]
  },
  {
   "cell_type": "code",
   "execution_count": null,
   "id": "b1212ac1-5d8f-407c-8a80-39a843b982e6",
   "metadata": {
    "tags": []
   },
   "outputs": [],
   "source": [
    "# which days of the month were warm days?\n"
   ]
  },
  {
   "cell_type": "code",
   "execution_count": null,
   "id": "718f0c74-6bab-49f9-9c2f-3588cf7e8395",
   "metadata": {
    "tags": []
   },
   "outputs": [],
   "source": [
    "# create a logical array that says whether a day is cold. It should say True for minimum temperatures below 10 and False otherwise.\n"
   ]
  },
  {
   "cell_type": "code",
   "execution_count": null,
   "id": "ee24b40c-fb21-444d-9d36-ce1dff3bc957",
   "metadata": {
    "tags": []
   },
   "outputs": [],
   "source": [
    "# how many cool days occurred in the month?\n"
   ]
  },
  {
   "cell_type": "code",
   "execution_count": null,
   "id": "27d8ed68-f207-4e43-a0fe-a6adbd5036f4",
   "metadata": {
    "tags": []
   },
   "outputs": [],
   "source": [
    "# which days of the month were either warm or cool?\n"
   ]
  },
  {
   "cell_type": "markdown",
   "id": "1271d687-9639-405a-96d9-1685832377db",
   "metadata": {},
   "source": [
    "<a name=\"input_and_output\"> </a>\n",
    "## User Input and Formatted Output Strings\n",
    "User input and formatted output strings are useful for creating code that will interact with people who aren't programmers. A simple example of a cost calculator is shown below. You will use this example to help create a function that interacts with an attendant at a cash register.\n"
   ]
  },
  {
   "cell_type": "markdown",
   "id": "0c5a1e95-fbad-4523-88d6-0d9b03359c4c",
   "metadata": {},
   "source": [
    "### Cost calculator (example)"
   ]
  },
  {
   "cell_type": "code",
   "execution_count": 1,
   "id": "779de93d-8fb4-4d22-a1dd-f1c3db26ba5c",
   "metadata": {
    "tags": []
   },
   "outputs": [],
   "source": [
    "def cost_calculator():\n",
    "    item_cost = input('How much (in dollars) does a single item cost?')\n",
    "    n_items = input('How many items would you like to purchase?')\n",
    "    cost = float(item_cost) * float(n_items)\n",
    "    \n",
    "    print(f'It will cost ${cost} to purchase {n_items} items that cost ${item_cost} each.')"
   ]
  },
  {
   "cell_type": "code",
   "execution_count": null,
   "id": "565dda19-34c8-4875-bb92-bd2964ceaaac",
   "metadata": {
    "tags": []
   },
   "outputs": [],
   "source": [
    "cost_calculator()"
   ]
  },
  {
   "cell_type": "markdown",
   "id": "51ffc1d5-b55c-4cbf-bd62-55381599a1cc",
   "metadata": {},
   "source": [
    "<a name=\"cash_register\"> </a>\n",
    "### Exercise: Cash Register\n",
    "You are designing a cash register program to be used at a sausage sizzle. There are three items for sale: standard sausages (\\\\$3), premium sausages (\\\\$5), and soft drink cans (\\\\$2). Your function should ask the person at the register how many of each item was ordered. It should then ask them how much cash was given to them. It will then calculate how much change they need to give to the customer through a formatted output string. If they weren't given enough money, the output string should state this and mention how much extra money needs to be provided.\n",
    "\n",
    "Bonus (optional): you can also get your function to track inventory (how much of each item has been sold) and revenue (total money made) over the course of multiple purchases."
   ]
  },
  {
   "cell_type": "code",
   "execution_count": null,
   "id": "dd5db27f-b3da-440c-9ae0-2561e5e04e61",
   "metadata": {},
   "outputs": [],
   "source": [
    "def sausage_sizzle_purchase():\n",
    "    pass # replace pass with your solution"
   ]
  },
  {
   "cell_type": "code",
   "execution_count": null,
   "id": "530e0c0c-f882-4c90-9655-73b1019fe2e4",
   "metadata": {},
   "outputs": [],
   "source": [
    "# call the function here to test if it works"
   ]
  },
  {
   "cell_type": "markdown",
   "id": "71cf2be9-61fe-4ab3-82e2-4c8862f3573c",
   "metadata": {},
   "source": [
    "<a name=\"strings\"> </a>\n",
    "## Working with Strings\n",
    "Often in programming we are required to extract certain features from a piece of text. For example, you might want to find the most frequently used words from a collection of product reviews to capture how people feel about the product. This typically involves the use of string methods and loops. There are lots of string methods, so in this tutorial we will suggest useful methods to you. \n",
    "\n",
    "The test cases for the following exercises will be two quotes from Hamlet."
   ]
  },
  {
   "cell_type": "code",
   "execution_count": null,
   "id": "3d04a690-6fa9-4023-8e1f-9308a08bbb22",
   "metadata": {
    "tags": []
   },
   "outputs": [],
   "source": [
    "quote_1 = \"\"\"To be, or not to be: that is the question:\n",
    "Whether 'tis nobler in the mind to suffer\n",
    "The slings and arrows of outrageous fortune,\n",
    "Or to take arms against a sea of troubles,\n",
    "And by opposing end them. To die: to sleep...\"\"\""
   ]
  },
  {
   "cell_type": "code",
   "execution_count": null,
   "id": "abb51553-f9c1-45e4-80a0-8e45ea4b6356",
   "metadata": {
    "tags": []
   },
   "outputs": [],
   "source": [
    "quote_2 = \"\"\"This above all: to thine own self be true,\n",
    "And it must follow, as the night the day,\n",
    "Thou canst not then be false to any man.\"\"\""
   ]
  },
  {
   "cell_type": "markdown",
   "id": "deb4b6ac-fb56-4faf-8584-74179973a044",
   "metadata": {},
   "source": [
    "### Accessing lines and words in text"
   ]
  },
  {
   "cell_type": "code",
   "execution_count": null,
   "id": "6e18a094-8cf8-4a84-aaf8-6d24e9deb59d",
   "metadata": {
    "tags": []
   },
   "outputs": [],
   "source": [
    "# access lines with the splitlines method\n",
    "quote_1_lines = quote_1.splitlines()\n",
    "quote_1_lines"
   ]
  },
  {
   "cell_type": "code",
   "execution_count": null,
   "id": "aec18d70-24d1-4242-b808-1290b243e802",
   "metadata": {
    "tags": []
   },
   "outputs": [],
   "source": [
    "# since each line is stored as a separate element of a list, you can now access individual lines or iterate through each line.\n",
    "# example: access the first line\n",
    "quote_1_lines[0]"
   ]
  },
  {
   "cell_type": "code",
   "execution_count": null,
   "id": "903e3d45-844c-4f14-a337-3310181a4729",
   "metadata": {
    "tags": []
   },
   "outputs": [],
   "source": [
    "# you can access each word using the split method\n",
    "quote_1_words = quote_1.split()\n",
    "quote_1_words"
   ]
  },
  {
   "cell_type": "code",
   "execution_count": null,
   "id": "ce6337dc-1e47-4f37-83b1-2e8a169c7928",
   "metadata": {
    "tags": []
   },
   "outputs": [],
   "source": [
    "# You will notice that there is punctuation attached to some of the words. Some of the words also start with capital letters. \n",
    "# This can be cleaned up with the lower method and the strip method.\n",
    "import string\n",
    "\n",
    "quote_1_words = quote_1_cleaned.lower().split() # converts to lower case\n",
    "\n",
    "# for loop to strip punctuation from each word\n",
    "for word in quote_1_words:\n",
    "    cleaned_word = word.strip(string.punctuation)\n",
    "    print(cleaned_word)"
   ]
  },
  {
   "cell_type": "markdown",
   "id": "02bcd5f4-80b1-4530-8e0d-100f07c4efc4",
   "metadata": {},
   "source": [
    "<a name=\"word_count\"> </a>\n",
    "### Exercise: Word Count\n",
    "Create a function that counts the number of words in a piece of text. Then test your function by calling it on the two example texts."
   ]
  },
  {
   "cell_type": "code",
   "execution_count": null,
   "id": "20b2ed5a-d115-401d-bdd7-8ed21cba98da",
   "metadata": {},
   "outputs": [],
   "source": [
    "def word_count(text):\n",
    "    pass # replace with your own solution"
   ]
  },
  {
   "cell_type": "code",
   "execution_count": null,
   "id": "fccb3d4d-f04f-4857-ac34-8891ecb8ec72",
   "metadata": {
    "tags": []
   },
   "outputs": [],
   "source": [
    "word_count(quote_1) # should return 43"
   ]
  },
  {
   "cell_type": "code",
   "execution_count": null,
   "id": "8cc8d603-62d6-4200-af8f-e5d31dda381e",
   "metadata": {
    "tags": []
   },
   "outputs": [],
   "source": [
    "word_count(quote_2) # should return 27"
   ]
  },
  {
   "cell_type": "markdown",
   "id": "58b17f22-35be-4db5-8e87-2b28eee76fea",
   "metadata": {},
   "source": [
    "<a name=\"sets\"> </a>\n",
    "## Sets"
   ]
  },
  {
   "cell_type": "markdown",
   "id": "8dd4bb4d-d582-4854-93f5-97cacc8e20e2",
   "metadata": {},
   "source": [
    "<a name=\"unique_words\"> </a>\n",
    "### Exercise: Finding all unique words in a piece of text\n",
    "Suppose we instead were interested in each unique word in a piece of text. A convenient way to achieve this is to store each word in a set. A set does not allow duplicate entries, so will only display each word once. You can start with an empty set using the set function and then use the add method to add each word to the set. Alternatively, you could add all the words to a list using the append method, and then convert that list to a set."
   ]
  },
  {
   "cell_type": "code",
   "execution_count": null,
   "id": "1713113e-0b29-4aa8-9ef4-86219578aec5",
   "metadata": {
    "tags": []
   },
   "outputs": [],
   "source": [
    "def unique_words(text):\n",
    "    pass # replace with your own solution"
   ]
  },
  {
   "cell_type": "code",
   "execution_count": null,
   "id": "56e1ae05-2879-4e07-923a-4fca6ecf3bca",
   "metadata": {
    "tags": []
   },
   "outputs": [],
   "source": [
    "unique_words(quote_1)"
   ]
  },
  {
   "cell_type": "markdown",
   "id": "d387e169-65d6-4e3d-9e59-12e2925d804a",
   "metadata": {},
   "source": [
    "<a name=\"shared_words\"> </a>\n",
    "### Exercise: Finding words shared between two texts\n",
    "Another benefit of working with sets is you gain access to set operations such as intersection and union. We can use intersection (either the & operator or intersection method) to easily find which words belong to two pieces of text.\n",
    "\n",
    "Create the function below which accepts two arguments which are strings. It should ouput the set of words that the two texts share in common."
   ]
  },
  {
   "cell_type": "code",
   "execution_count": null,
   "id": "2aa3d983-0550-4805-b753-3a12adafa43d",
   "metadata": {},
   "outputs": [],
   "source": [
    "def shared_words(text1, text2):\n",
    "    text1_words = unique_words(text1)\n",
    "    text2_words = unique_words(text2)\n",
    "    return text1_words & text2_words\n"
   ]
  },
  {
   "cell_type": "code",
   "execution_count": null,
   "id": "db4abc68-ba45-4b1a-bfb5-0db4e5deb0e6",
   "metadata": {
    "tags": []
   },
   "outputs": [],
   "source": [
    "shared_words(quote_1, quote_2) # should return {'and', 'be', 'not', 'the', 'to'}"
   ]
  },
  {
   "cell_type": "markdown",
   "id": "d171c328-17ec-49dd-bbec-6bf3dbadf736",
   "metadata": {},
   "source": [
    "<a name=\"dictionaries\"> </a>\n",
    "## Dictionaries\n",
    "A dictionary is a collection of unique identifiers (called keys) that have some information associated with them (called values). For these exercises, we will get you to create a dictionary to store information corresponding to each word, such as its length or the frequency in which it appears in a text."
   ]
  },
  {
   "cell_type": "markdown",
   "id": "a5ef6ed0-2099-4dfb-b04f-f0104b4db2f4",
   "metadata": {},
   "source": [
    "### Example: Word Lengths\n",
    "The example below shows how each unique word can be stored as the keys of a dictionary, and its length is stored as the corresponding value. We have called the unique_words function from earlier in the tutorial to simplify the task."
   ]
  },
  {
   "cell_type": "code",
   "execution_count": null,
   "id": "76be85ac-1ce5-4c24-b608-67a219450414",
   "metadata": {
    "tags": []
   },
   "outputs": [],
   "source": [
    "def word_lengths(text):\n",
    "    words = unique_words(text)\n",
    "    word_dictionary = {}\n",
    "    for word in words:\n",
    "        word_dictionary[word] = len(word)\n",
    "    \n",
    "    return word_dictionary"
   ]
  },
  {
   "cell_type": "code",
   "execution_count": null,
   "id": "21cac066-67fd-4136-98e9-f74c70d72281",
   "metadata": {
    "tags": []
   },
   "outputs": [],
   "source": [
    "word_lengths(quote_1)"
   ]
  },
  {
   "cell_type": "markdown",
   "id": "6eb420eb-56dc-423b-8db2-bab5d0ef7e9f",
   "metadata": {},
   "source": [
    "<a name=\"word_frequency\"> </a>\n",
    "### Exercise: Word Frequency Counter\n",
    "Create a function that reads through a piece of text. It should ouput a dictionary where the keys are each unique word in the text, and the values are the frequency of that word (how many times it appeared in the text). "
   ]
  },
  {
   "cell_type": "code",
   "execution_count": null,
   "id": "1a5cac7b-f18a-4f80-a4d4-f12d4c54bf7f",
   "metadata": {
    "tags": []
   },
   "outputs": [],
   "source": [
    "def word_frequency(text):\n",
    "    pass # replace with your own code"
   ]
  },
  {
   "cell_type": "code",
   "execution_count": null,
   "id": "7ea008fc-8074-4b39-b3b5-f48253593698",
   "metadata": {
    "tags": []
   },
   "outputs": [],
   "source": [
    "# test case\n",
    "word_frequency(quote_1)"
   ]
  },
  {
   "cell_type": "markdown",
   "id": "e5cf6028-aedb-4516-98d2-4adc514faf0b",
   "metadata": {},
   "source": [
    "<a name=\"dictionary_sort\"> </a>\n",
    "### Exercise: Sorting a Dictionary\n",
    "You will have noticed that the dictionary entries aren't sorted in alphabetical order: the order is based on when the word was entered into the dictionary. Create a function below that accepts a dictionary input and outputs a dictionary where the keys have been sorted in alphabetical order."
   ]
  },
  {
   "cell_type": "code",
   "execution_count": null,
   "id": "2ca7a502-3e30-49aa-8d90-a20c529461c2",
   "metadata": {
    "tags": []
   },
   "outputs": [],
   "source": [
    "def sort_dictionary(dictionary):\n",
    "    pass # replace with your own code\n",
    "           "
   ]
  },
  {
   "cell_type": "code",
   "execution_count": null,
   "id": "c56f3962-c951-478a-9e69-ff509e600761",
   "metadata": {},
   "outputs": [],
   "source": [
    "# test your code here by calling it on a dictionary"
   ]
  },
  {
   "cell_type": "code",
   "execution_count": null,
   "id": "a6c65433-f572-43d2-8c3e-9e758402da7d",
   "metadata": {},
   "outputs": [],
   "source": [
    "# optional: can you create a function that sorts the dictionary by value instead of by key?"
   ]
  }
 ],
 "metadata": {
  "kernelspec": {
   "display_name": "Python 3 (ipykernel)",
   "language": "python",
   "name": "python3"
  },
  "language_info": {
   "codemirror_mode": {
    "name": "ipython",
    "version": 3
   },
   "file_extension": ".py",
   "mimetype": "text/x-python",
   "name": "python",
   "nbconvert_exporter": "python",
   "pygments_lexer": "ipython3",
   "version": "3.10.12"
  }
 },
 "nbformat": 4,
 "nbformat_minor": 5
}
